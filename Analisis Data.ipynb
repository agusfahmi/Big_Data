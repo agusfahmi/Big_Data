{
 "cells": [
  {
   "cell_type": "code",
   "execution_count": 5,
   "id": "c2b38532-9988-4cb4-bce0-8f4001c92851",
   "metadata": {},
   "outputs": [],
   "source": [
    "import pandas as pd\n",
    "import numpy as np\n",
    "import seaborn as sns\n",
    "import matplotlib.pyplot as plt\n",
    "from scipy.stats import pearsonr, f_oneway\n",
    "from sklearn.preprocessing import LabelEncoder\n",
    "from sklearn.linear_model import LinearRegression\n",
    "from sklearn.model_selection import train_test_split\n",
    "from sklearn import metrics"
   ]
  },
  {
   "cell_type": "code",
   "execution_count": 7,
   "id": "adef667e-e338-472d-9233-44eec161a663",
   "metadata": {},
   "outputs": [],
   "source": [
    "assesments          = 'Data/assessments.csv'\n",
    "courses             = 'Data/courses.csv'\n",
    "studentAssesment    = 'Data/studentAssessment.csv'\n",
    "studentInfo         = 'Data/studentInfo.csv'\n",
    "studentRegistration = 'Data/studentRegistration.csv'\n",
    "studentVle          = 'Data/studentVle.csv'\n",
    "vle                 = 'Data/vle.csv'\n",
    "\n",
    "assessments_data         = pd.read_csv(assesments)\n",
    "courses_data             = pd.read_csv(courses)\n",
    "student_assessment_data   = pd.read_csv(studentAssesment)\n",
    "student_info_data         = pd.read_csv(studentInfo)\n",
    "student_registration_data = pd.read_csv(studentRegistration)\n",
    "student_vle_data          = pd.read_csv(studentVle)\n",
    "vle_data                 = pd.read_csv(vle)\n"
   ]
  },
  {
   "cell_type": "markdown",
   "id": "9018b3e3-0275-42f6-b2b5-6fc7255db7b9",
   "metadata": {},
   "source": [
    "# Student Registration & Courses\n",
    "Menentukan modul yang paling banyak diikuti oleh mahasiswa berdasarkan jumlah pendaftaran."
   ]
  },
  {
   "cell_type": "code",
   "execution_count": 8,
   "id": "851eb70c-0bc0-46d2-8841-fc2df255fa81",
   "metadata": {},
   "outputs": [],
   "source": [
    "# Merge the data based on common columns (code_module and code_presentation)\n",
    "merged_data = pd.merge(student_registration_data, courses_data, on=['code_module', 'code_presentation'], how='inner')"
   ]
  },
  {
   "cell_type": "code",
   "execution_count": 9,
   "id": "9852efaf-eea6-4dc0-bd3b-879a9c07138e",
   "metadata": {},
   "outputs": [
    {
     "data": {
      "text/html": [
       "<div>\n",
       "<style scoped>\n",
       "    .dataframe tbody tr th:only-of-type {\n",
       "        vertical-align: middle;\n",
       "    }\n",
       "\n",
       "    .dataframe tbody tr th {\n",
       "        vertical-align: top;\n",
       "    }\n",
       "\n",
       "    .dataframe thead th {\n",
       "        text-align: right;\n",
       "    }\n",
       "</style>\n",
       "<table border=\"1\" class=\"dataframe\">\n",
       "  <thead>\n",
       "    <tr style=\"text-align: right;\">\n",
       "      <th></th>\n",
       "      <th>code_module</th>\n",
       "      <th>code_presentation</th>\n",
       "      <th>id_student</th>\n",
       "      <th>date_registration</th>\n",
       "      <th>date_unregistration</th>\n",
       "      <th>module_presentation_length</th>\n",
       "    </tr>\n",
       "  </thead>\n",
       "  <tbody>\n",
       "    <tr>\n",
       "      <th>0</th>\n",
       "      <td>AAA</td>\n",
       "      <td>2013J</td>\n",
       "      <td>11391</td>\n",
       "      <td>-159.0</td>\n",
       "      <td>NaN</td>\n",
       "      <td>268</td>\n",
       "    </tr>\n",
       "    <tr>\n",
       "      <th>1</th>\n",
       "      <td>AAA</td>\n",
       "      <td>2013J</td>\n",
       "      <td>28400</td>\n",
       "      <td>-53.0</td>\n",
       "      <td>NaN</td>\n",
       "      <td>268</td>\n",
       "    </tr>\n",
       "    <tr>\n",
       "      <th>2</th>\n",
       "      <td>AAA</td>\n",
       "      <td>2013J</td>\n",
       "      <td>30268</td>\n",
       "      <td>-92.0</td>\n",
       "      <td>12.0</td>\n",
       "      <td>268</td>\n",
       "    </tr>\n",
       "    <tr>\n",
       "      <th>3</th>\n",
       "      <td>AAA</td>\n",
       "      <td>2013J</td>\n",
       "      <td>31604</td>\n",
       "      <td>-52.0</td>\n",
       "      <td>NaN</td>\n",
       "      <td>268</td>\n",
       "    </tr>\n",
       "    <tr>\n",
       "      <th>4</th>\n",
       "      <td>AAA</td>\n",
       "      <td>2013J</td>\n",
       "      <td>32885</td>\n",
       "      <td>-176.0</td>\n",
       "      <td>NaN</td>\n",
       "      <td>268</td>\n",
       "    </tr>\n",
       "    <tr>\n",
       "      <th>...</th>\n",
       "      <td>...</td>\n",
       "      <td>...</td>\n",
       "      <td>...</td>\n",
       "      <td>...</td>\n",
       "      <td>...</td>\n",
       "      <td>...</td>\n",
       "    </tr>\n",
       "    <tr>\n",
       "      <th>32588</th>\n",
       "      <td>GGG</td>\n",
       "      <td>2014J</td>\n",
       "      <td>2640965</td>\n",
       "      <td>-4.0</td>\n",
       "      <td>NaN</td>\n",
       "      <td>269</td>\n",
       "    </tr>\n",
       "    <tr>\n",
       "      <th>32589</th>\n",
       "      <td>GGG</td>\n",
       "      <td>2014J</td>\n",
       "      <td>2645731</td>\n",
       "      <td>-23.0</td>\n",
       "      <td>NaN</td>\n",
       "      <td>269</td>\n",
       "    </tr>\n",
       "    <tr>\n",
       "      <th>32590</th>\n",
       "      <td>GGG</td>\n",
       "      <td>2014J</td>\n",
       "      <td>2648187</td>\n",
       "      <td>-129.0</td>\n",
       "      <td>NaN</td>\n",
       "      <td>269</td>\n",
       "    </tr>\n",
       "    <tr>\n",
       "      <th>32591</th>\n",
       "      <td>GGG</td>\n",
       "      <td>2014J</td>\n",
       "      <td>2679821</td>\n",
       "      <td>-49.0</td>\n",
       "      <td>101.0</td>\n",
       "      <td>269</td>\n",
       "    </tr>\n",
       "    <tr>\n",
       "      <th>32592</th>\n",
       "      <td>GGG</td>\n",
       "      <td>2014J</td>\n",
       "      <td>2684003</td>\n",
       "      <td>-28.0</td>\n",
       "      <td>NaN</td>\n",
       "      <td>269</td>\n",
       "    </tr>\n",
       "  </tbody>\n",
       "</table>\n",
       "<p>32593 rows × 6 columns</p>\n",
       "</div>"
      ],
      "text/plain": [
       "      code_module code_presentation  id_student  date_registration   \n",
       "0             AAA             2013J       11391             -159.0  \\\n",
       "1             AAA             2013J       28400              -53.0   \n",
       "2             AAA             2013J       30268              -92.0   \n",
       "3             AAA             2013J       31604              -52.0   \n",
       "4             AAA             2013J       32885             -176.0   \n",
       "...           ...               ...         ...                ...   \n",
       "32588         GGG             2014J     2640965               -4.0   \n",
       "32589         GGG             2014J     2645731              -23.0   \n",
       "32590         GGG             2014J     2648187             -129.0   \n",
       "32591         GGG             2014J     2679821              -49.0   \n",
       "32592         GGG             2014J     2684003              -28.0   \n",
       "\n",
       "       date_unregistration  module_presentation_length  \n",
       "0                      NaN                         268  \n",
       "1                      NaN                         268  \n",
       "2                     12.0                         268  \n",
       "3                      NaN                         268  \n",
       "4                      NaN                         268  \n",
       "...                    ...                         ...  \n",
       "32588                  NaN                         269  \n",
       "32589                  NaN                         269  \n",
       "32590                  NaN                         269  \n",
       "32591                101.0                         269  \n",
       "32592                  NaN                         269  \n",
       "\n",
       "[32593 rows x 6 columns]"
      ]
     },
     "execution_count": 9,
     "metadata": {},
     "output_type": "execute_result"
    }
   ],
   "source": [
    "merged_data"
   ]
  },
  {
   "cell_type": "code",
   "execution_count": 10,
   "id": "6add5eed-e559-423c-bb7d-41cb18f23a0d",
   "metadata": {},
   "outputs": [
    {
     "data": {
      "text/plain": [
       "code_module                       7\n",
       "code_presentation                 4\n",
       "id_student                    28785\n",
       "date_registration               332\n",
       "date_unregistration             416\n",
       "module_presentation_length        7\n",
       "dtype: int64"
      ]
     },
     "execution_count": 10,
     "metadata": {},
     "output_type": "execute_result"
    }
   ],
   "source": [
    "merged_data.nunique()"
   ]
  },
  {
   "cell_type": "code",
   "execution_count": 11,
   "id": "422a84f2-4202-4324-b7ac-34592da54cfb",
   "metadata": {},
   "outputs": [
    {
     "name": "stdout",
     "output_type": "stream",
     "text": [
      "Data yang hilang atau tidak lengkap:\n",
      "code_module                       0\n",
      "code_presentation                 0\n",
      "id_student                        0\n",
      "date_registration                45\n",
      "date_unregistration           22521\n",
      "module_presentation_length        0\n",
      "dtype: int64\n"
     ]
    }
   ],
   "source": [
    "missing_data = merged_data.isnull().sum()\n",
    "print(\"Data yang hilang atau tidak lengkap:\")\n",
    "print(missing_data)"
   ]
  },
  {
   "cell_type": "code",
   "execution_count": 16,
   "id": "c929c202-8086-4485-b387-a9a11ef81535",
   "metadata": {},
   "outputs": [
    {
     "name": "stdout",
     "output_type": "stream",
     "text": [
      "\n",
      "Data yang hilang :\n",
      "code_module                   0\n",
      "code_presentation             0\n",
      "id_student                    0\n",
      "date_registration             0\n",
      "date_unregistration           0\n",
      "module_presentation_length    0\n",
      "dtype: int64\n"
     ]
    }
   ],
   "source": [
    "# Cek lagi data yang hilang \n",
    "missing_data_after_filling = merged_data.isnull().sum()\n",
    "print(\"\\nData yang hilang :\")\n",
    "print(missing_data_after_filling)"
   ]
  },
  {
   "cell_type": "code",
   "execution_count": 15,
   "id": "01fd1920-2e8a-4252-9759-4ebe480e0734",
   "metadata": {},
   "outputs": [],
   "source": [
    "merged_data.dropna(subset=['date_registration', 'date_unregistration'], inplace=True)"
   ]
  },
  {
   "cell_type": "code",
   "execution_count": 20,
   "id": "d6c2fd5c-e797-400d-9ef3-8b419b11fc00",
   "metadata": {},
   "outputs": [
    {
     "name": "stdout",
     "output_type": "stream",
     "text": [
      "Modul dengan jumlah pendaftaran terbanyak:\n",
      "Kode Modul: FFF\n",
      "Jumlah Pendaftaran: 2370\n"
     ]
    }
   ],
   "source": [
    "# Hitung jumlah pendaftaran untuk setiap modul\n",
    "jumlah_pendaftaran_per_modul = merged_data['code_module'].value_counts()\n",
    "\n",
    "# Temukan modul dengan jumlah pendaftaran terbanyak\n",
    "modul_terbanyak = jumlah_pendaftaran_per_modul.idxmax()\n",
    "jumlah_pendaftaran_terbanyak = jumlah_pendaftaran_per_modul.max()\n",
    "\n",
    "print(\"Modul dengan jumlah pendaftaran terbanyak:\")\n",
    "print(\"Kode Modul:\", modul_terbanyak)\n",
    "print(\"Jumlah Pendaftaran:\", jumlah_pendaftaran_terbanyak)"
   ]
  },
  {
   "cell_type": "code",
   "execution_count": 22,
   "id": "cd1aa121-3145-4e0f-bad6-837955f96945",
   "metadata": {},
   "outputs": [
    {
     "data": {
      "image/png": "[encoded data removed]",
      "text/plain": [
       "<Figure size 576x432 with 1 Axes>"
      ]
     },
     "metadata": {
      "needs_background": "light"
     },
     "output_type": "display_data"
    }
   ],
   "source": [
    "# Plotting the number of registrations per module\n",
    "registration_counts = merged_data['code_module'].value_counts()\n",
    "plt.figure(figsize=(8, 6))\n",
    "plt.bar(registration_counts.index, registration_counts.values, color='skyblue')\n",
    "plt.xlabel('Module Code')\n",
    "plt.ylabel('Angka Pendaftar')\n",
    "plt.title('Angka pendaftar setiap modul')\n",
    "plt.show()"
   ]
  },
  {
   "cell_type": "code",
   "execution_count": 23,
   "id": "77ef2eb8-09d6-43c5-b951-e860393bafdb",
   "metadata": {},
   "outputs": [
    {
     "data": {
      "image/png": "[encoded data removed]",
      "text/plain": [
       "<Figure size 720x432 with 1 Axes>"
      ]
     },
     "metadata": {
      "needs_background": "light"
     },
     "output_type": "display_data"
    }
   ],
   "source": [
    "plt.figure(figsize=(10, 6))\n",
    "plt.hist(merged_data['date_registration'].dropna(), bins=20, alpha=0.7, label='Date Registration', color='skyblue')\n",
    "plt.hist(merged_data['date_unregistration'].dropna(), bins=20, alpha=0.7, label='Date Unregistration', color='orange')\n",
    "plt.xlabel('Days Before Module Presentation')\n",
    "plt.ylabel('Number of Students')\n",
    "plt.title('Distribusi dari tanggal pendaftar dan tidak mendaftar ')\n",
    "plt.legend()\n",
    "plt.show()"
   ]
  },
  {
   "cell_type": "code",
   "execution_count": 24,
   "id": "3b6c1861-d30e-44e5-b72e-628ce13162c9",
   "metadata": {},
   "outputs": [
    {
     "data": {
      "image/png": "[encoded data removed]",
      "text/plain": [
       "<Figure size 720x432 with 1 Axes>"
      ]
     },
     "metadata": {
      "needs_background": "light"
     },
     "output_type": "display_data"
    }
   ],
   "source": [
    "# Distribusi Jumlah Pendaftaran per Presentasi (Histogram)\n",
    "plt.figure(figsize=(10, 6))\n",
    "plt.hist(merged_data.groupby(['code_module', 'code_presentation'])['id_student'].count(), bins=10, alpha=0.7, color='green')\n",
    "plt.xlabel('Jumlah Pendaftaran per Presentasi')\n",
    "plt.ylabel('Jumlah Presentasi')\n",
    "plt.title('Distribusi Jumlah Pendaftaran per Presentasi')\n",
    "plt.show()\n"
   ]
  },
  {
   "cell_type": "code",
   "execution_count": 25,
   "id": "65a2b1af-400f-48d5-bf09-2fa80889d797",
   "metadata": {},
   "outputs": [
    {
     "data": {
      "image/png": "[encoded data removed]",
      "text/plain": [
       "<Figure size 576x432 with 1 Axes>"
      ]
     },
     "metadata": {
      "needs_background": "light"
     },
     "output_type": "display_data"
    }
   ],
   "source": [
    "# Durasi Modul-Presentasi (Box Plot)\n",
    "plt.figure(figsize=(8, 6))\n",
    "plt.boxplot(merged_data['module_presentation_length'], vert=False)\n",
    "plt.xlabel('Durasi Modul-Presentasi (hari)')\n",
    "plt.title('Distribusi Durasi Modul-Presentasi')\n",
    "plt.show()\n"
   ]
  },
  {
   "cell_type": "markdown",
   "id": "0b2d7eaa-07f3-4bd0-af7d-b2cd350bd2ab",
   "metadata": {},
   "source": [
    "# Assessment"
   ]
  },
  {
   "cell_type": "markdown",
   "id": "8dd555b3-fc23-4c59-92b1-17c3d3c4d3c5",
   "metadata": {},
   "source": [
    "## EDA"
   ]
  },
  {
   "cell_type": "code",
   "execution_count": 26,
   "id": "7c03d40e-1d04-4d1c-b0b5-bda65c00e38d",
   "metadata": {},
   "outputs": [
    {
     "data": {
      "text/html": [
       "<div>\n",
       "<style scoped>\n",
       "    .dataframe tbody tr th:only-of-type {\n",
       "        vertical-align: middle;\n",
       "    }\n",
       "\n",
       "    .dataframe tbody tr th {\n",
       "        vertical-align: top;\n",
       "    }\n",
       "\n",
       "    .dataframe thead th {\n",
       "        text-align: right;\n",
       "    }\n",
       "</style>\n",
       "<table border=\"1\" class=\"dataframe\">\n",
       "  <thead>\n",
       "    <tr style=\"text-align: right;\">\n",
       "      <th></th>\n",
       "      <th>code_module</th>\n",
       "      <th>code_presentation</th>\n",
       "      <th>id_assessment</th>\n",
       "      <th>assessment_type</th>\n",
       "      <th>date</th>\n",
       "      <th>weight</th>\n",
       "    </tr>\n",
       "  </thead>\n",
       "  <tbody>\n",
       "    <tr>\n",
       "      <th>0</th>\n",
       "      <td>AAA</td>\n",
       "      <td>2013J</td>\n",
       "      <td>1752</td>\n",
       "      <td>TMA</td>\n",
       "      <td>19.0</td>\n",
       "      <td>10.0</td>\n",
       "    </tr>\n",
       "    <tr>\n",
       "      <th>1</th>\n",
       "      <td>AAA</td>\n",
       "      <td>2013J</td>\n",
       "      <td>1753</td>\n",
       "      <td>TMA</td>\n",
       "      <td>54.0</td>\n",
       "      <td>20.0</td>\n",
       "    </tr>\n",
       "    <tr>\n",
       "      <th>2</th>\n",
       "      <td>AAA</td>\n",
       "      <td>2013J</td>\n",
       "      <td>1754</td>\n",
       "      <td>TMA</td>\n",
       "      <td>117.0</td>\n",
       "      <td>20.0</td>\n",
       "    </tr>\n",
       "    <tr>\n",
       "      <th>3</th>\n",
       "      <td>AAA</td>\n",
       "      <td>2013J</td>\n",
       "      <td>1755</td>\n",
       "      <td>TMA</td>\n",
       "      <td>166.0</td>\n",
       "      <td>20.0</td>\n",
       "    </tr>\n",
       "    <tr>\n",
       "      <th>4</th>\n",
       "      <td>AAA</td>\n",
       "      <td>2013J</td>\n",
       "      <td>1756</td>\n",
       "      <td>TMA</td>\n",
       "      <td>215.0</td>\n",
       "      <td>30.0</td>\n",
       "    </tr>\n",
       "  </tbody>\n",
       "</table>\n",
       "</div>"
      ],
      "text/plain": [
       "  code_module code_presentation  id_assessment assessment_type   date  weight\n",
       "0         AAA             2013J           1752             TMA   19.0    10.0\n",
       "1         AAA             2013J           1753             TMA   54.0    20.0\n",
       "2         AAA             2013J           1754             TMA  117.0    20.0\n",
       "3         AAA             2013J           1755             TMA  166.0    20.0\n",
       "4         AAA             2013J           1756             TMA  215.0    30.0"
      ]
     },
     "execution_count": 26,
     "metadata": {},
     "output_type": "execute_result"
    }
   ],
   "source": [
    "assessments_data.head()"
   ]
  },
  {
   "cell_type": "code",
   "execution_count": 27,
   "id": "176612cd-f71e-4e66-afcd-faca18f674da",
   "metadata": {},
   "outputs": [
    {
     "data": {
      "text/html": [
       "<div>\n",
       "<style scoped>\n",
       "    .dataframe tbody tr th:only-of-type {\n",
       "        vertical-align: middle;\n",
       "    }\n",
       "\n",
       "    .dataframe tbody tr th {\n",
       "        vertical-align: top;\n",
       "    }\n",
       "\n",
       "    .dataframe thead th {\n",
       "        text-align: right;\n",
       "    }\n",
       "</style>\n",
       "<table border=\"1\" class=\"dataframe\">\n",
       "  <thead>\n",
       "    <tr style=\"text-align: right;\">\n",
       "      <th></th>\n",
       "      <th>code_module</th>\n",
       "      <th>code_presentation</th>\n",
       "      <th>id_assessment</th>\n",
       "      <th>assessment_type</th>\n",
       "      <th>date</th>\n",
       "      <th>weight</th>\n",
       "    </tr>\n",
       "  </thead>\n",
       "  <tbody>\n",
       "    <tr>\n",
       "      <th>201</th>\n",
       "      <td>GGG</td>\n",
       "      <td>2014J</td>\n",
       "      <td>37443</td>\n",
       "      <td>CMA</td>\n",
       "      <td>229.0</td>\n",
       "      <td>0.0</td>\n",
       "    </tr>\n",
       "    <tr>\n",
       "      <th>202</th>\n",
       "      <td>GGG</td>\n",
       "      <td>2014J</td>\n",
       "      <td>37435</td>\n",
       "      <td>TMA</td>\n",
       "      <td>61.0</td>\n",
       "      <td>0.0</td>\n",
       "    </tr>\n",
       "    <tr>\n",
       "      <th>203</th>\n",
       "      <td>GGG</td>\n",
       "      <td>2014J</td>\n",
       "      <td>37436</td>\n",
       "      <td>TMA</td>\n",
       "      <td>124.0</td>\n",
       "      <td>0.0</td>\n",
       "    </tr>\n",
       "    <tr>\n",
       "      <th>204</th>\n",
       "      <td>GGG</td>\n",
       "      <td>2014J</td>\n",
       "      <td>37437</td>\n",
       "      <td>TMA</td>\n",
       "      <td>173.0</td>\n",
       "      <td>0.0</td>\n",
       "    </tr>\n",
       "    <tr>\n",
       "      <th>205</th>\n",
       "      <td>GGG</td>\n",
       "      <td>2014J</td>\n",
       "      <td>37444</td>\n",
       "      <td>Exam</td>\n",
       "      <td>229.0</td>\n",
       "      <td>100.0</td>\n",
       "    </tr>\n",
       "  </tbody>\n",
       "</table>\n",
       "</div>"
      ],
      "text/plain": [
       "    code_module code_presentation  id_assessment assessment_type   date   \n",
       "201         GGG             2014J          37443             CMA  229.0  \\\n",
       "202         GGG             2014J          37435             TMA   61.0   \n",
       "203         GGG             2014J          37436             TMA  124.0   \n",
       "204         GGG             2014J          37437             TMA  173.0   \n",
       "205         GGG             2014J          37444            Exam  229.0   \n",
       "\n",
       "     weight  \n",
       "201     0.0  \n",
       "202     0.0  \n",
       "203     0.0  \n",
       "204     0.0  \n",
       "205   100.0  "
      ]
     },
     "execution_count": 27,
     "metadata": {},
     "output_type": "execute_result"
    }
   ],
   "source": [
    "assessments_data.tail()"
   ]
  },
  {
   "cell_type": "code",
   "execution_count": 28,
   "id": "d90a9c7a-eb03-4fa2-b072-83f8ec852be3",
   "metadata": {},
   "outputs": [
    {
     "data": {
      "text/plain": [
       "code_module           0\n",
       "code_presentation     0\n",
       "id_assessment         0\n",
       "assessment_type       0\n",
       "date                 11\n",
       "weight                0\n",
       "dtype: int64"
      ]
     },
     "execution_count": 28,
     "metadata": {},
     "output_type": "execute_result"
    }
   ],
   "source": [
    "assessments_data.isnull().sum()"
   ]
  },
  {
   "cell_type": "code",
   "execution_count": 29,
   "id": "506fbac8-7b9f-4ed3-a928-d22300d575ef",
   "metadata": {},
   "outputs": [
    {
     "data": {
      "text/plain": [
       "0"
      ]
     },
     "execution_count": 29,
     "metadata": {},
     "output_type": "execute_result"
    }
   ],
   "source": [
    "assessments_data.duplicated().sum()"
   ]
  },
  {
   "cell_type": "code",
   "execution_count": 30,
   "id": "7797039c-ee5d-4441-b4d3-a5052f209835",
   "metadata": {},
   "outputs": [
    {
     "data": {
      "text/html": [
       "<div>\n",
       "<style scoped>\n",
       "    .dataframe tbody tr th:only-of-type {\n",
       "        vertical-align: middle;\n",
       "    }\n",
       "\n",
       "    .dataframe tbody tr th {\n",
       "        vertical-align: top;\n",
       "    }\n",
       "\n",
       "    .dataframe thead th {\n",
       "        text-align: right;\n",
       "    }\n",
       "</style>\n",
       "<table border=\"1\" class=\"dataframe\">\n",
       "  <thead>\n",
       "    <tr style=\"text-align: right;\">\n",
       "      <th></th>\n",
       "      <th>id_assessment</th>\n",
       "      <th>date</th>\n",
       "      <th>weight</th>\n",
       "    </tr>\n",
       "  </thead>\n",
       "  <tbody>\n",
       "    <tr>\n",
       "      <th>count</th>\n",
       "      <td>206.000000</td>\n",
       "      <td>195.000000</td>\n",
       "      <td>206.000000</td>\n",
       "    </tr>\n",
       "    <tr>\n",
       "      <th>mean</th>\n",
       "      <td>26473.975728</td>\n",
       "      <td>145.005128</td>\n",
       "      <td>20.873786</td>\n",
       "    </tr>\n",
       "    <tr>\n",
       "      <th>std</th>\n",
       "      <td>10098.625521</td>\n",
       "      <td>76.001119</td>\n",
       "      <td>30.384224</td>\n",
       "    </tr>\n",
       "    <tr>\n",
       "      <th>min</th>\n",
       "      <td>1752.000000</td>\n",
       "      <td>12.000000</td>\n",
       "      <td>0.000000</td>\n",
       "    </tr>\n",
       "    <tr>\n",
       "      <th>25%</th>\n",
       "      <td>15023.250000</td>\n",
       "      <td>71.000000</td>\n",
       "      <td>0.000000</td>\n",
       "    </tr>\n",
       "    <tr>\n",
       "      <th>50%</th>\n",
       "      <td>25364.500000</td>\n",
       "      <td>152.000000</td>\n",
       "      <td>12.500000</td>\n",
       "    </tr>\n",
       "    <tr>\n",
       "      <th>75%</th>\n",
       "      <td>34891.750000</td>\n",
       "      <td>222.000000</td>\n",
       "      <td>24.250000</td>\n",
       "    </tr>\n",
       "    <tr>\n",
       "      <th>max</th>\n",
       "      <td>40088.000000</td>\n",
       "      <td>261.000000</td>\n",
       "      <td>100.000000</td>\n",
       "    </tr>\n",
       "  </tbody>\n",
       "</table>\n",
       "</div>"
      ],
      "text/plain": [
       "       id_assessment        date      weight\n",
       "count     206.000000  195.000000  206.000000\n",
       "mean    26473.975728  145.005128   20.873786\n",
       "std     10098.625521   76.001119   30.384224\n",
       "min      1752.000000   12.000000    0.000000\n",
       "25%     15023.250000   71.000000    0.000000\n",
       "50%     25364.500000  152.000000   12.500000\n",
       "75%     34891.750000  222.000000   24.250000\n",
       "max     40088.000000  261.000000  100.000000"
      ]
     },
     "execution_count": 30,
     "metadata": {},
     "output_type": "execute_result"
    }
   ],
   "source": [
    "assessments_data.describe()"
   ]
  },
  {
   "cell_type": "code",
   "execution_count": 31,
   "id": "947260c8-9e68-4a10-88db-62723ea38530",
   "metadata": {},
   "outputs": [
    {
     "data": {
      "text/plain": [
       "(206, 6)"
      ]
     },
     "execution_count": 31,
     "metadata": {},
     "output_type": "execute_result"
    }
   ],
   "source": [
    "assessments_data.shape"
   ]
  },
  {
   "cell_type": "code",
   "execution_count": 32,
   "id": "8c3673a4-f0b4-4d4c-9611-c1bf353119bb",
   "metadata": {},
   "outputs": [
    {
     "name": "stdout",
     "output_type": "stream",
     "text": [
      "<class 'pandas.core.frame.DataFrame'>\n",
      "RangeIndex: 206 entries, 0 to 205\n",
      "Data columns (total 6 columns):\n",
      " #   Column             Non-Null Count  Dtype  \n",
      "---  ------             --------------  -----  \n",
      " 0   code_module        206 non-null    object \n",
      " 1   code_presentation  206 non-null    object \n",
      " 2   id_assessment      206 non-null    int64  \n",
      " 3   assessment_type    206 non-null    object \n",
      " 4   date               195 non-null    float64\n",
      " 5   weight             206 non-null    float64\n",
      "dtypes: float64(2), int64(1), object(3)\n",
      "memory usage: 9.8+ KB\n"
     ]
    }
   ],
   "source": [
    "assessments_data.info()"
   ]
  },
  {
   "cell_type": "code",
   "execution_count": 33,
   "id": "86a86a63-8f4c-42ec-96a6-0fa8472efce9",
   "metadata": {},
   "outputs": [
    {
     "data": {
      "text/plain": [
       "code_module           object\n",
       "code_presentation     object\n",
       "id_assessment          int64\n",
       "assessment_type       object\n",
       "date                 float64\n",
       "weight               float64\n",
       "dtype: object"
      ]
     },
     "execution_count": 33,
     "metadata": {},
     "output_type": "execute_result"
    }
   ],
   "source": [
    "assessments_data.dtypes"
   ]
  },
  {
   "cell_type": "code",
   "execution_count": 34,
   "id": "a49cee24-99f3-4851-b88d-6b9997f6339c",
   "metadata": {},
   "outputs": [
    {
     "data": {
      "text/plain": [
       "code_module            7\n",
       "code_presentation      4\n",
       "id_assessment        206\n",
       "assessment_type        3\n",
       "date                  74\n",
       "weight                24\n",
       "dtype: int64"
      ]
     },
     "execution_count": 34,
     "metadata": {},
     "output_type": "execute_result"
    }
   ],
   "source": [
    "assessments_data.nunique()"
   ]
  },
  {
   "cell_type": "markdown",
   "id": "769ad784-7498-41e8-b036-e28ce12c706a",
   "metadata": {},
   "source": [
    "## Pre Processing"
   ]
  },
  {
   "cell_type": "markdown",
   "id": "0a2c2d8a-0c4f-4728-afb7-59fd77bd26af",
   "metadata": {},
   "source": [
    "mengisi null value dengan nilai yang sering muncul (modus), agar tidak mengurangi banyak data"
   ]
  },
  {
   "cell_type": "code",
   "execution_count": 35,
   "id": "a19d6522-9861-4686-8199-0faf7906b431",
   "metadata": {},
   "outputs": [],
   "source": [
    "if assessments_data.isnull().any().any(): # cek apakah terdapat nilai null\n",
    "    modus = assessments_data.mode().iloc[0] # mencari modus dari tiap kolom\n",
    "    assessments_data = assessments_data.fillna(modus) # mengisi nilai null dengan modus"
   ]
  },
  {
   "cell_type": "code",
   "execution_count": 36,
   "id": "1d25573c-a27f-454c-99a6-17cce008f560",
   "metadata": {},
   "outputs": [
    {
     "data": {
      "text/plain": [
       "code_module          0\n",
       "code_presentation    0\n",
       "id_assessment        0\n",
       "assessment_type      0\n",
       "date                 0\n",
       "weight               0\n",
       "dtype: int64"
      ]
     },
     "execution_count": 36,
     "metadata": {},
     "output_type": "execute_result"
    }
   ],
   "source": [
    "assessments_data.isnull().sum()"
   ]
  },
  {
   "cell_type": "markdown",
   "id": "9c1397bc-4b08-4a08-a97f-fe2ac2f60f74",
   "metadata": {},
   "source": [
    "# Course Data"
   ]
  },
  {
   "cell_type": "markdown",
   "id": "f4da4414-ecb6-443e-b336-9b5fe2db7343",
   "metadata": {},
   "source": [
    "## EDA"
   ]
  },
  {
   "cell_type": "code",
   "execution_count": 37,
   "id": "6d751f68-588f-4685-8cea-7455c3e94f39",
   "metadata": {},
   "outputs": [
    {
     "data": {
      "text/html": [
       "<div>\n",
       "<style scoped>\n",
       "    .dataframe tbody tr th:only-of-type {\n",
       "        vertical-align: middle;\n",
       "    }\n",
       "\n",
       "    .dataframe tbody tr th {\n",
       "        vertical-align: top;\n",
       "    }\n",
       "\n",
       "    .dataframe thead th {\n",
       "        text-align: right;\n",
       "    }\n",
       "</style>\n",
       "<table border=\"1\" class=\"dataframe\">\n",
       "  <thead>\n",
       "    <tr style=\"text-align: right;\">\n",
       "      <th></th>\n",
       "      <th>code_module</th>\n",
       "      <th>code_presentation</th>\n",
       "      <th>module_presentation_length</th>\n",
       "    </tr>\n",
       "  </thead>\n",
       "  <tbody>\n",
       "    <tr>\n",
       "      <th>0</th>\n",
       "      <td>AAA</td>\n",
       "      <td>2013J</td>\n",
       "      <td>268</td>\n",
       "    </tr>\n",
       "    <tr>\n",
       "      <th>1</th>\n",
       "      <td>AAA</td>\n",
       "      <td>2014J</td>\n",
       "      <td>269</td>\n",
       "    </tr>\n",
       "    <tr>\n",
       "      <th>2</th>\n",
       "      <td>BBB</td>\n",
       "      <td>2013J</td>\n",
       "      <td>268</td>\n",
       "    </tr>\n",
       "    <tr>\n",
       "      <th>3</th>\n",
       "      <td>BBB</td>\n",
       "      <td>2014J</td>\n",
       "      <td>262</td>\n",
       "    </tr>\n",
       "    <tr>\n",
       "      <th>4</th>\n",
       "      <td>BBB</td>\n",
       "      <td>2013B</td>\n",
       "      <td>240</td>\n",
       "    </tr>\n",
       "  </tbody>\n",
       "</table>\n",
       "</div>"
      ],
      "text/plain": [
       "  code_module code_presentation  module_presentation_length\n",
       "0         AAA             2013J                         268\n",
       "1         AAA             2014J                         269\n",
       "2         BBB             2013J                         268\n",
       "3         BBB             2014J                         262\n",
       "4         BBB             2013B                         240"
      ]
     },
     "execution_count": 37,
     "metadata": {},
     "output_type": "execute_result"
    }
   ],
   "source": [
    "courses_data.head() # menampilkan 5 data teratas dari dataset"
   ]
  },
  {
   "cell_type": "code",
   "execution_count": 38,
   "id": "ffecce72-9618-4af2-9ed9-100bf5f1e6b1",
   "metadata": {},
   "outputs": [
    {
     "data": {
      "text/html": [
       "<div>\n",
       "<style scoped>\n",
       "    .dataframe tbody tr th:only-of-type {\n",
       "        vertical-align: middle;\n",
       "    }\n",
       "\n",
       "    .dataframe tbody tr th {\n",
       "        vertical-align: top;\n",
       "    }\n",
       "\n",
       "    .dataframe thead th {\n",
       "        text-align: right;\n",
       "    }\n",
       "</style>\n",
       "<table border=\"1\" class=\"dataframe\">\n",
       "  <thead>\n",
       "    <tr style=\"text-align: right;\">\n",
       "      <th></th>\n",
       "      <th>code_module</th>\n",
       "      <th>code_presentation</th>\n",
       "      <th>module_presentation_length</th>\n",
       "    </tr>\n",
       "  </thead>\n",
       "  <tbody>\n",
       "    <tr>\n",
       "      <th>17</th>\n",
       "      <td>FFF</td>\n",
       "      <td>2013B</td>\n",
       "      <td>240</td>\n",
       "    </tr>\n",
       "    <tr>\n",
       "      <th>18</th>\n",
       "      <td>FFF</td>\n",
       "      <td>2014B</td>\n",
       "      <td>241</td>\n",
       "    </tr>\n",
       "    <tr>\n",
       "      <th>19</th>\n",
       "      <td>GGG</td>\n",
       "      <td>2013J</td>\n",
       "      <td>261</td>\n",
       "    </tr>\n",
       "    <tr>\n",
       "      <th>20</th>\n",
       "      <td>GGG</td>\n",
       "      <td>2014J</td>\n",
       "      <td>269</td>\n",
       "    </tr>\n",
       "    <tr>\n",
       "      <th>21</th>\n",
       "      <td>GGG</td>\n",
       "      <td>2014B</td>\n",
       "      <td>241</td>\n",
       "    </tr>\n",
       "  </tbody>\n",
       "</table>\n",
       "</div>"
      ],
      "text/plain": [
       "   code_module code_presentation  module_presentation_length\n",
       "17         FFF             2013B                         240\n",
       "18         FFF             2014B                         241\n",
       "19         GGG             2013J                         261\n",
       "20         GGG             2014J                         269\n",
       "21         GGG             2014B                         241"
      ]
     },
     "execution_count": 38,
     "metadata": {},
     "output_type": "execute_result"
    }
   ],
   "source": [
    "courses_data.tail() # menampilkan 5 data terakhir dari dataset"
   ]
  },
  {
   "cell_type": "code",
   "execution_count": 39,
   "id": "6d418433-8b51-45f5-b403-48ca3a0f1c98",
   "metadata": {},
   "outputs": [
    {
     "data": {
      "text/plain": [
       "code_module                   0\n",
       "code_presentation             0\n",
       "module_presentation_length    0\n",
       "dtype: int64"
      ]
     },
     "execution_count": 39,
     "metadata": {},
     "output_type": "execute_result"
    }
   ],
   "source": [
    "courses_data.isnull().sum() # menghitung jumlah null value pada data"
   ]
  },
  {
   "cell_type": "code",
   "execution_count": 40,
   "id": "4ccca734-cde6-4754-a7ae-aef11cb4e48f",
   "metadata": {},
   "outputs": [
    {
     "data": {
      "text/plain": [
       "0"
      ]
     },
     "execution_count": 40,
     "metadata": {},
     "output_type": "execute_result"
    }
   ],
   "source": [
    "courses_data.duplicated().sum() # menghitung jumlah nilai duplikat pada data"
   ]
  },
  {
   "cell_type": "code",
   "execution_count": 41,
   "id": "f233d991-675d-4bcd-b1db-95718315a94e",
   "metadata": {},
   "outputs": [
    {
     "data": {
      "text/html": [
       "<div>\n",
       "<style scoped>\n",
       "    .dataframe tbody tr th:only-of-type {\n",
       "        vertical-align: middle;\n",
       "    }\n",
       "\n",
       "    .dataframe tbody tr th {\n",
       "        vertical-align: top;\n",
       "    }\n",
       "\n",
       "    .dataframe thead th {\n",
       "        text-align: right;\n",
       "    }\n",
       "</style>\n",
       "<table border=\"1\" class=\"dataframe\">\n",
       "  <thead>\n",
       "    <tr style=\"text-align: right;\">\n",
       "      <th></th>\n",
       "      <th>module_presentation_length</th>\n",
       "    </tr>\n",
       "  </thead>\n",
       "  <tbody>\n",
       "    <tr>\n",
       "      <th>count</th>\n",
       "      <td>22.000000</td>\n",
       "    </tr>\n",
       "    <tr>\n",
       "      <th>mean</th>\n",
       "      <td>255.545455</td>\n",
       "    </tr>\n",
       "    <tr>\n",
       "      <th>std</th>\n",
       "      <td>13.654677</td>\n",
       "    </tr>\n",
       "    <tr>\n",
       "      <th>min</th>\n",
       "      <td>234.000000</td>\n",
       "    </tr>\n",
       "    <tr>\n",
       "      <th>25%</th>\n",
       "      <td>241.000000</td>\n",
       "    </tr>\n",
       "    <tr>\n",
       "      <th>50%</th>\n",
       "      <td>261.500000</td>\n",
       "    </tr>\n",
       "    <tr>\n",
       "      <th>75%</th>\n",
       "      <td>268.000000</td>\n",
       "    </tr>\n",
       "    <tr>\n",
       "      <th>max</th>\n",
       "      <td>269.000000</td>\n",
       "    </tr>\n",
       "  </tbody>\n",
       "</table>\n",
       "</div>"
      ],
      "text/plain": [
       "       module_presentation_length\n",
       "count                   22.000000\n",
       "mean                   255.545455\n",
       "std                     13.654677\n",
       "min                    234.000000\n",
       "25%                    241.000000\n",
       "50%                    261.500000\n",
       "75%                    268.000000\n",
       "max                    269.000000"
      ]
     },
     "execution_count": 41,
     "metadata": {},
     "output_type": "execute_result"
    }
   ],
   "source": [
    "courses_data.describe() # ringkasan statistik dari data"
   ]
  },
  {
   "cell_type": "code",
   "execution_count": 42,
   "id": "95a1963a-0b40-41b3-ad19-70fb2a4ae7d6",
   "metadata": {},
   "outputs": [
    {
     "data": {
      "text/plain": [
       "(22, 3)"
      ]
     },
     "execution_count": 42,
     "metadata": {},
     "output_type": "execute_result"
    }
   ],
   "source": [
    "courses_data.shape # untuk melihat jumlah kolom dan baris data"
   ]
  },
  {
   "cell_type": "code",
   "execution_count": 43,
   "id": "c20ff786-e1a4-4fb3-8cad-85fc5adbfeac",
   "metadata": {},
   "outputs": [
    {
     "name": "stdout",
     "output_type": "stream",
     "text": [
      "<class 'pandas.core.frame.DataFrame'>\n",
      "RangeIndex: 22 entries, 0 to 21\n",
      "Data columns (total 3 columns):\n",
      " #   Column                      Non-Null Count  Dtype \n",
      "---  ------                      --------------  ----- \n",
      " 0   code_module                 22 non-null     object\n",
      " 1   code_presentation           22 non-null     object\n",
      " 2   module_presentation_length  22 non-null     int64 \n",
      "dtypes: int64(1), object(2)\n",
      "memory usage: 656.0+ bytes\n"
     ]
    }
   ],
   "source": [
    "courses_data.info() # untuk melihat informasi dari dataset"
   ]
  },
  {
   "cell_type": "code",
   "execution_count": 44,
   "id": "feea8765-072c-4b55-8dba-bb46bae2fd72",
   "metadata": {},
   "outputs": [
    {
     "data": {
      "text/plain": [
       "code_module                   object\n",
       "code_presentation             object\n",
       "module_presentation_length     int64\n",
       "dtype: object"
      ]
     },
     "execution_count": 44,
     "metadata": {},
     "output_type": "execute_result"
    }
   ],
   "source": [
    "courses_data.dtypes"
   ]
  },
  {
   "cell_type": "code",
   "execution_count": 45,
   "id": "a54227f8-7e4f-4e90-b2e3-c7dc88730aab",
   "metadata": {},
   "outputs": [
    {
     "data": {
      "text/plain": [
       "code_module                   7\n",
       "code_presentation             4\n",
       "module_presentation_length    7\n",
       "dtype: int64"
      ]
     },
     "execution_count": 45,
     "metadata": {},
     "output_type": "execute_result"
    }
   ],
   "source": [
    "courses_data.nunique()"
   ]
  },
  {
   "cell_type": "markdown",
   "id": "bcb15b49-294b-41a3-b73d-ed08555c2461",
   "metadata": {},
   "source": [
    "# Student Assessment"
   ]
  },
  {
   "cell_type": "markdown",
   "id": "a903c9ae-d1a0-4b30-afc7-66ce0a30908c",
   "metadata": {},
   "source": [
    "## EDA"
   ]
  },
  {
   "cell_type": "code",
   "execution_count": 46,
   "id": "31d775e0-593a-4dc5-87de-424bcb7552b3",
   "metadata": {},
   "outputs": [
    {
     "data": {
      "text/html": [
       "<div>\n",
       "<style scoped>\n",
       "    .dataframe tbody tr th:only-of-type {\n",
       "        vertical-align: middle;\n",
       "    }\n",
       "\n",
       "    .dataframe tbody tr th {\n",
       "        vertical-align: top;\n",
       "    }\n",
       "\n",
       "    .dataframe thead th {\n",
       "        text-align: right;\n",
       "    }\n",
       "</style>\n",
       "<table border=\"1\" class=\"dataframe\">\n",
       "  <thead>\n",
       "    <tr style=\"text-align: right;\">\n",
       "      <th></th>\n",
       "      <th>id_assessment</th>\n",
       "      <th>id_student</th>\n",
       "      <th>date_submitted</th>\n",
       "      <th>is_banked</th>\n",
       "      <th>score</th>\n",
       "    </tr>\n",
       "  </thead>\n",
       "  <tbody>\n",
       "    <tr>\n",
       "      <th>0</th>\n",
       "      <td>1752</td>\n",
       "      <td>11391</td>\n",
       "      <td>18</td>\n",
       "      <td>0</td>\n",
       "      <td>78.0</td>\n",
       "    </tr>\n",
       "    <tr>\n",
       "      <th>1</th>\n",
       "      <td>1752</td>\n",
       "      <td>28400</td>\n",
       "      <td>22</td>\n",
       "      <td>0</td>\n",
       "      <td>70.0</td>\n",
       "    </tr>\n",
       "    <tr>\n",
       "      <th>2</th>\n",
       "      <td>1752</td>\n",
       "      <td>31604</td>\n",
       "      <td>17</td>\n",
       "      <td>0</td>\n",
       "      <td>72.0</td>\n",
       "    </tr>\n",
       "    <tr>\n",
       "      <th>3</th>\n",
       "      <td>1752</td>\n",
       "      <td>32885</td>\n",
       "      <td>26</td>\n",
       "      <td>0</td>\n",
       "      <td>69.0</td>\n",
       "    </tr>\n",
       "    <tr>\n",
       "      <th>4</th>\n",
       "      <td>1752</td>\n",
       "      <td>38053</td>\n",
       "      <td>19</td>\n",
       "      <td>0</td>\n",
       "      <td>79.0</td>\n",
       "    </tr>\n",
       "  </tbody>\n",
       "</table>\n",
       "</div>"
      ],
      "text/plain": [
       "   id_assessment  id_student  date_submitted  is_banked  score\n",
       "0           1752       11391              18          0   78.0\n",
       "1           1752       28400              22          0   70.0\n",
       "2           1752       31604              17          0   72.0\n",
       "3           1752       32885              26          0   69.0\n",
       "4           1752       38053              19          0   79.0"
      ]
     },
     "execution_count": 46,
     "metadata": {},
     "output_type": "execute_result"
    }
   ],
   "source": [
    "studentAssessment_data.head() # menampilkan 5 data teratas"
   ]
  },
  {
   "cell_type": "code",
   "execution_count": 47,
   "id": "be826407-3361-4141-8865-defa774e44d1",
   "metadata": {},
   "outputs": [
    {
     "data": {
      "text/html": [
       "<div>\n",
       "<style scoped>\n",
       "    .dataframe tbody tr th:only-of-type {\n",
       "        vertical-align: middle;\n",
       "    }\n",
       "\n",
       "    .dataframe tbody tr th {\n",
       "        vertical-align: top;\n",
       "    }\n",
       "\n",
       "    .dataframe thead th {\n",
       "        text-align: right;\n",
       "    }\n",
       "</style>\n",
       "<table border=\"1\" class=\"dataframe\">\n",
       "  <thead>\n",
       "    <tr style=\"text-align: right;\">\n",
       "      <th></th>\n",
       "      <th>id_assessment</th>\n",
       "      <th>id_student</th>\n",
       "      <th>date_submitted</th>\n",
       "      <th>is_banked</th>\n",
       "      <th>score</th>\n",
       "    </tr>\n",
       "  </thead>\n",
       "  <tbody>\n",
       "    <tr>\n",
       "      <th>173907</th>\n",
       "      <td>37443</td>\n",
       "      <td>527538</td>\n",
       "      <td>227</td>\n",
       "      <td>0</td>\n",
       "      <td>60.0</td>\n",
       "    </tr>\n",
       "    <tr>\n",
       "      <th>173908</th>\n",
       "      <td>37443</td>\n",
       "      <td>534672</td>\n",
       "      <td>229</td>\n",
       "      <td>0</td>\n",
       "      <td>100.0</td>\n",
       "    </tr>\n",
       "    <tr>\n",
       "      <th>173909</th>\n",
       "      <td>37443</td>\n",
       "      <td>546286</td>\n",
       "      <td>215</td>\n",
       "      <td>0</td>\n",
       "      <td>80.0</td>\n",
       "    </tr>\n",
       "    <tr>\n",
       "      <th>173910</th>\n",
       "      <td>37443</td>\n",
       "      <td>546724</td>\n",
       "      <td>230</td>\n",
       "      <td>0</td>\n",
       "      <td>100.0</td>\n",
       "    </tr>\n",
       "    <tr>\n",
       "      <th>173911</th>\n",
       "      <td>37443</td>\n",
       "      <td>558486</td>\n",
       "      <td>224</td>\n",
       "      <td>0</td>\n",
       "      <td>80.0</td>\n",
       "    </tr>\n",
       "  </tbody>\n",
       "</table>\n",
       "</div>"
      ],
      "text/plain": [
       "        id_assessment  id_student  date_submitted  is_banked  score\n",
       "173907          37443      527538             227          0   60.0\n",
       "173908          37443      534672             229          0  100.0\n",
       "173909          37443      546286             215          0   80.0\n",
       "173910          37443      546724             230          0  100.0\n",
       "173911          37443      558486             224          0   80.0"
      ]
     },
     "execution_count": 47,
     "metadata": {},
     "output_type": "execute_result"
    }
   ],
   "source": [
    "studentAssessment_data.tail() # menampilkan 5 data terakhir "
   ]
  },
  {
   "cell_type": "code",
   "execution_count": 48,
   "id": "ae0d3016-b4fc-4174-9369-044c27815820",
   "metadata": {},
   "outputs": [
    {
     "data": {
      "text/plain": [
       "id_assessment       0\n",
       "id_student          0\n",
       "date_submitted      0\n",
       "is_banked           0\n",
       "score             173\n",
       "dtype: int64"
      ]
     },
     "execution_count": 48,
     "metadata": {},
     "output_type": "execute_result"
    }
   ],
   "source": [
    "studentAssessment_data.isnull().sum() # hitung null value"
   ]
  },
  {
   "cell_type": "code",
   "execution_count": 49,
   "id": "921172e2-d3ab-4aff-bb6b-8a2aebd6fa79",
   "metadata": {},
   "outputs": [
    {
     "data": {
      "text/plain": [
       "0"
      ]
     },
     "execution_count": 49,
     "metadata": {},
     "output_type": "execute_result"
    }
   ],
   "source": [
    "studentAssessment_data.duplicated().sum() # hitung nilai duplikat"
   ]
  },
  {
   "cell_type": "code",
   "execution_count": 50,
   "id": "6d9fbfad-dfc3-4613-b81d-2998bafa94cd",
   "metadata": {},
   "outputs": [
    {
     "data": {
      "text/html": [
       "<div>\n",
       "<style scoped>\n",
       "    .dataframe tbody tr th:only-of-type {\n",
       "        vertical-align: middle;\n",
       "    }\n",
       "\n",
       "    .dataframe tbody tr th {\n",
       "        vertical-align: top;\n",
       "    }\n",
       "\n",
       "    .dataframe thead th {\n",
       "        text-align: right;\n",
       "    }\n",
       "</style>\n",
       "<table border=\"1\" class=\"dataframe\">\n",
       "  <thead>\n",
       "    <tr style=\"text-align: right;\">\n",
       "      <th></th>\n",
       "      <th>id_assessment</th>\n",
       "      <th>id_student</th>\n",
       "      <th>date_submitted</th>\n",
       "      <th>is_banked</th>\n",
       "      <th>score</th>\n",
       "    </tr>\n",
       "  </thead>\n",
       "  <tbody>\n",
       "    <tr>\n",
       "      <th>count</th>\n",
       "      <td>173912.000000</td>\n",
       "      <td>1.739120e+05</td>\n",
       "      <td>173912.000000</td>\n",
       "      <td>173912.000000</td>\n",
       "      <td>173739.000000</td>\n",
       "    </tr>\n",
       "    <tr>\n",
       "      <th>mean</th>\n",
       "      <td>26553.803556</td>\n",
       "      <td>7.051507e+05</td>\n",
       "      <td>116.032942</td>\n",
       "      <td>0.010977</td>\n",
       "      <td>75.799573</td>\n",
       "    </tr>\n",
       "    <tr>\n",
       "      <th>std</th>\n",
       "      <td>8829.784254</td>\n",
       "      <td>5.523952e+05</td>\n",
       "      <td>71.484148</td>\n",
       "      <td>0.104194</td>\n",
       "      <td>18.798107</td>\n",
       "    </tr>\n",
       "    <tr>\n",
       "      <th>min</th>\n",
       "      <td>1752.000000</td>\n",
       "      <td>6.516000e+03</td>\n",
       "      <td>-11.000000</td>\n",
       "      <td>0.000000</td>\n",
       "      <td>0.000000</td>\n",
       "    </tr>\n",
       "    <tr>\n",
       "      <th>25%</th>\n",
       "      <td>15022.000000</td>\n",
       "      <td>5.044290e+05</td>\n",
       "      <td>51.000000</td>\n",
       "      <td>0.000000</td>\n",
       "      <td>65.000000</td>\n",
       "    </tr>\n",
       "    <tr>\n",
       "      <th>50%</th>\n",
       "      <td>25359.000000</td>\n",
       "      <td>5.852080e+05</td>\n",
       "      <td>116.000000</td>\n",
       "      <td>0.000000</td>\n",
       "      <td>80.000000</td>\n",
       "    </tr>\n",
       "    <tr>\n",
       "      <th>75%</th>\n",
       "      <td>34883.000000</td>\n",
       "      <td>6.344980e+05</td>\n",
       "      <td>173.000000</td>\n",
       "      <td>0.000000</td>\n",
       "      <td>90.000000</td>\n",
       "    </tr>\n",
       "    <tr>\n",
       "      <th>max</th>\n",
       "      <td>37443.000000</td>\n",
       "      <td>2.698588e+06</td>\n",
       "      <td>608.000000</td>\n",
       "      <td>1.000000</td>\n",
       "      <td>100.000000</td>\n",
       "    </tr>\n",
       "  </tbody>\n",
       "</table>\n",
       "</div>"
      ],
      "text/plain": [
       "       id_assessment    id_student  date_submitted      is_banked   \n",
       "count  173912.000000  1.739120e+05   173912.000000  173912.000000  \\\n",
       "mean    26553.803556  7.051507e+05      116.032942       0.010977   \n",
       "std      8829.784254  5.523952e+05       71.484148       0.104194   \n",
       "min      1752.000000  6.516000e+03      -11.000000       0.000000   \n",
       "25%     15022.000000  5.044290e+05       51.000000       0.000000   \n",
       "50%     25359.000000  5.852080e+05      116.000000       0.000000   \n",
       "75%     34883.000000  6.344980e+05      173.000000       0.000000   \n",
       "max     37443.000000  2.698588e+06      608.000000       1.000000   \n",
       "\n",
       "               score  \n",
       "count  173739.000000  \n",
       "mean       75.799573  \n",
       "std        18.798107  \n",
       "min         0.000000  \n",
       "25%        65.000000  \n",
       "50%        80.000000  \n",
       "75%        90.000000  \n",
       "max       100.000000  "
      ]
     },
     "execution_count": 50,
     "metadata": {},
     "output_type": "execute_result"
    }
   ],
   "source": [
    "studentAssessment_data.describe() # ringkasan statistik data"
   ]
  },
  {
   "cell_type": "code",
   "execution_count": 51,
   "id": "91bd889c-6d8a-43b1-ae7b-6898d4f05f7e",
   "metadata": {},
   "outputs": [
    {
     "data": {
      "text/plain": [
       "(173912, 5)"
      ]
     },
     "execution_count": 51,
     "metadata": {},
     "output_type": "execute_result"
    }
   ],
   "source": [
    "studentAssessment_data.shape # lihat dimensi dataset"
   ]
  },
  {
   "cell_type": "code",
   "execution_count": 52,
   "id": "096dd67b-da98-4894-b77a-8f73fd700e05",
   "metadata": {},
   "outputs": [
    {
     "name": "stdout",
     "output_type": "stream",
     "text": [
      "<class 'pandas.core.frame.DataFrame'>\n",
      "RangeIndex: 173912 entries, 0 to 173911\n",
      "Data columns (total 5 columns):\n",
      " #   Column          Non-Null Count   Dtype  \n",
      "---  ------          --------------   -----  \n",
      " 0   id_assessment   173912 non-null  int64  \n",
      " 1   id_student      173912 non-null  int64  \n",
      " 2   date_submitted  173912 non-null  int64  \n",
      " 3   is_banked       173912 non-null  int64  \n",
      " 4   score           173739 non-null  float64\n",
      "dtypes: float64(1), int64(4)\n",
      "memory usage: 6.6 MB\n"
     ]
    }
   ],
   "source": [
    "studentAssessment_data.info() # lihat informasi dataset"
   ]
  },
  {
   "cell_type": "code",
   "execution_count": 53,
   "id": "dd3cf785-1de4-4758-af28-88d6f29fe5bd",
   "metadata": {},
   "outputs": [
    {
     "data": {
      "text/plain": [
       "id_assessment       int64\n",
       "id_student          int64\n",
       "date_submitted      int64\n",
       "is_banked           int64\n",
       "score             float64\n",
       "dtype: object"
      ]
     },
     "execution_count": 53,
     "metadata": {},
     "output_type": "execute_result"
    }
   ],
   "source": [
    "studentAssessment_data.dtypes # lihat tipe data fitur"
   ]
  },
  {
   "cell_type": "code",
   "execution_count": 54,
   "id": "db57bf98-d240-4d0c-810d-96e38c13a92f",
   "metadata": {},
   "outputs": [
    {
     "data": {
      "text/plain": [
       "id_assessment       188\n",
       "id_student        23369\n",
       "date_submitted      312\n",
       "is_banked             2\n",
       "score               101\n",
       "dtype: int64"
      ]
     },
     "execution_count": 54,
     "metadata": {},
     "output_type": "execute_result"
    }
   ],
   "source": [
    "studentAssessment_data.nunique() # hitung nilai unik"
   ]
  },
  {
   "cell_type": "markdown",
   "id": "060cc5e6-621f-4737-9af1-922451dab8de",
   "metadata": {},
   "source": [
    "## Pre Processing"
   ]
  },
  {
   "cell_type": "markdown",
   "id": "232ad0a7-9fea-4d94-9a3f-c6d61a0aa472",
   "metadata": {},
   "source": [
    "mengisi null value dengan nilai yang sering muncul (modus), agar tidak mengurangi banyak data"
   ]
  },
  {
   "cell_type": "code",
   "execution_count": 55,
   "id": "b080fd8c-b086-4ea5-8a34-db5b54424e60",
   "metadata": {},
   "outputs": [],
   "source": [
    "if studentAssessment_data.isnull().any().any(): # cek apakah terdapat nilai null\n",
    "    modus = studentAssessment_data.mode().iloc[0] # mencari modus dari tiap kolom\n",
    "    studentAssessment_data = studentAssessment_data.fillna(modus) # mengisi nilai null dengan modus"
   ]
  },
  {
   "cell_type": "code",
   "execution_count": 56,
   "id": "ba2e5bf0-434e-4839-ab24-e5f63e7b9d0e",
   "metadata": {},
   "outputs": [
    {
     "data": {
      "text/plain": [
       "id_assessment     0\n",
       "id_student        0\n",
       "date_submitted    0\n",
       "is_banked         0\n",
       "score             0\n",
       "dtype: int64"
      ]
     },
     "execution_count": 56,
     "metadata": {},
     "output_type": "execute_result"
    }
   ],
   "source": [
    "studentAssessment_data.isnull().sum()"
   ]
  },
  {
   "cell_type": "markdown",
   "id": "aa2f1b6a-0e5e-4572-9e2a-50846bc3c12c",
   "metadata": {},
   "source": [
    "# Student Info"
   ]
  },
  {
   "cell_type": "markdown",
   "id": "55511518-079f-4dbd-826c-86bb72a8e77e",
   "metadata": {},
   "source": [
    "## EDA"
   ]
  },
  {
   "cell_type": "code",
   "execution_count": 57,
   "id": "e98ac84e-63d9-4fe3-8085-c0185607ebc8",
   "metadata": {},
   "outputs": [
    {
     "data": {
      "text/html": [
       "<div>\n",
       "<style scoped>\n",
       "    .dataframe tbody tr th:only-of-type {\n",
       "        vertical-align: middle;\n",
       "    }\n",
       "\n",
       "    .dataframe tbody tr th {\n",
       "        vertical-align: top;\n",
       "    }\n",
       "\n",
       "    .dataframe thead th {\n",
       "        text-align: right;\n",
       "    }\n",
       "</style>\n",
       "<table border=\"1\" class=\"dataframe\">\n",
       "  <thead>\n",
       "    <tr style=\"text-align: right;\">\n",
       "      <th></th>\n",
       "      <th>code_module</th>\n",
       "      <th>code_presentation</th>\n",
       "      <th>id_student</th>\n",
       "      <th>gender</th>\n",
       "      <th>region</th>\n",
       "      <th>highest_education</th>\n",
       "      <th>imd_band</th>\n",
       "      <th>age_band</th>\n",
       "      <th>num_of_prev_attempts</th>\n",
       "      <th>studied_credits</th>\n",
       "      <th>disability</th>\n",
       "      <th>final_result</th>\n",
       "    </tr>\n",
       "  </thead>\n",
       "  <tbody>\n",
       "    <tr>\n",
       "      <th>0</th>\n",
       "      <td>AAA</td>\n",
       "      <td>2013J</td>\n",
       "      <td>11391</td>\n",
       "      <td>M</td>\n",
       "      <td>East Anglian Region</td>\n",
       "      <td>HE Qualification</td>\n",
       "      <td>90-100%</td>\n",
       "      <td>55&lt;=</td>\n",
       "      <td>0</td>\n",
       "      <td>240</td>\n",
       "      <td>N</td>\n",
       "      <td>Pass</td>\n",
       "    </tr>\n",
       "    <tr>\n",
       "      <th>1</th>\n",
       "      <td>AAA</td>\n",
       "      <td>2013J</td>\n",
       "      <td>28400</td>\n",
       "      <td>F</td>\n",
       "      <td>Scotland</td>\n",
       "      <td>HE Qualification</td>\n",
       "      <td>20-30%</td>\n",
       "      <td>35-55</td>\n",
       "      <td>0</td>\n",
       "      <td>60</td>\n",
       "      <td>N</td>\n",
       "      <td>Pass</td>\n",
       "    </tr>\n",
       "    <tr>\n",
       "      <th>2</th>\n",
       "      <td>AAA</td>\n",
       "      <td>2013J</td>\n",
       "      <td>30268</td>\n",
       "      <td>F</td>\n",
       "      <td>North Western Region</td>\n",
       "      <td>A Level or Equivalent</td>\n",
       "      <td>30-40%</td>\n",
       "      <td>35-55</td>\n",
       "      <td>0</td>\n",
       "      <td>60</td>\n",
       "      <td>Y</td>\n",
       "      <td>Withdrawn</td>\n",
       "    </tr>\n",
       "    <tr>\n",
       "      <th>3</th>\n",
       "      <td>AAA</td>\n",
       "      <td>2013J</td>\n",
       "      <td>31604</td>\n",
       "      <td>F</td>\n",
       "      <td>South East Region</td>\n",
       "      <td>A Level or Equivalent</td>\n",
       "      <td>50-60%</td>\n",
       "      <td>35-55</td>\n",
       "      <td>0</td>\n",
       "      <td>60</td>\n",
       "      <td>N</td>\n",
       "      <td>Pass</td>\n",
       "    </tr>\n",
       "    <tr>\n",
       "      <th>4</th>\n",
       "      <td>AAA</td>\n",
       "      <td>2013J</td>\n",
       "      <td>32885</td>\n",
       "      <td>F</td>\n",
       "      <td>West Midlands Region</td>\n",
       "      <td>Lower Than A Level</td>\n",
       "      <td>50-60%</td>\n",
       "      <td>0-35</td>\n",
       "      <td>0</td>\n",
       "      <td>60</td>\n",
       "      <td>N</td>\n",
       "      <td>Pass</td>\n",
       "    </tr>\n",
       "  </tbody>\n",
       "</table>\n",
       "</div>"
      ],
      "text/plain": [
       "  code_module code_presentation  id_student gender                region   \n",
       "0         AAA             2013J       11391      M   East Anglian Region  \\\n",
       "1         AAA             2013J       28400      F              Scotland   \n",
       "2         AAA             2013J       30268      F  North Western Region   \n",
       "3         AAA             2013J       31604      F     South East Region   \n",
       "4         AAA             2013J       32885      F  West Midlands Region   \n",
       "\n",
       "       highest_education imd_band age_band  num_of_prev_attempts   \n",
       "0       HE Qualification  90-100%     55<=                     0  \\\n",
       "1       HE Qualification   20-30%    35-55                     0   \n",
       "2  A Level or Equivalent   30-40%    35-55                     0   \n",
       "3  A Level or Equivalent   50-60%    35-55                     0   \n",
       "4     Lower Than A Level   50-60%     0-35                     0   \n",
       "\n",
       "   studied_credits disability final_result  \n",
       "0              240          N         Pass  \n",
       "1               60          N         Pass  \n",
       "2               60          Y    Withdrawn  \n",
       "3               60          N         Pass  \n",
       "4               60          N         Pass  "
      ]
     },
     "execution_count": 57,
     "metadata": {},
     "output_type": "execute_result"
    }
   ],
   "source": [
    "studentInfo_data.head() # untuk menampilkan 5 data teratas"
   ]
  },
  {
   "cell_type": "code",
   "execution_count": 58,
   "id": "cff0405f-1181-4882-82fd-305fa8539110",
   "metadata": {},
   "outputs": [
    {
     "data": {
      "text/html": [
       "<div>\n",
       "<style scoped>\n",
       "    .dataframe tbody tr th:only-of-type {\n",
       "        vertical-align: middle;\n",
       "    }\n",
       "\n",
       "    .dataframe tbody tr th {\n",
       "        vertical-align: top;\n",
       "    }\n",
       "\n",
       "    .dataframe thead th {\n",
       "        text-align: right;\n",
       "    }\n",
       "</style>\n",
       "<table border=\"1\" class=\"dataframe\">\n",
       "  <thead>\n",
       "    <tr style=\"text-align: right;\">\n",
       "      <th></th>\n",
       "      <th>code_module</th>\n",
       "      <th>code_presentation</th>\n",
       "      <th>id_student</th>\n",
       "      <th>gender</th>\n",
       "      <th>region</th>\n",
       "      <th>highest_education</th>\n",
       "      <th>imd_band</th>\n",
       "      <th>age_band</th>\n",
       "      <th>num_of_prev_attempts</th>\n",
       "      <th>studied_credits</th>\n",
       "      <th>disability</th>\n",
       "      <th>final_result</th>\n",
       "    </tr>\n",
       "  </thead>\n",
       "  <tbody>\n",
       "    <tr>\n",
       "      <th>32588</th>\n",
       "      <td>GGG</td>\n",
       "      <td>2014J</td>\n",
       "      <td>2640965</td>\n",
       "      <td>F</td>\n",
       "      <td>Wales</td>\n",
       "      <td>Lower Than A Level</td>\n",
       "      <td>10-20</td>\n",
       "      <td>0-35</td>\n",
       "      <td>0</td>\n",
       "      <td>30</td>\n",
       "      <td>N</td>\n",
       "      <td>Fail</td>\n",
       "    </tr>\n",
       "    <tr>\n",
       "      <th>32589</th>\n",
       "      <td>GGG</td>\n",
       "      <td>2014J</td>\n",
       "      <td>2645731</td>\n",
       "      <td>F</td>\n",
       "      <td>East Anglian Region</td>\n",
       "      <td>Lower Than A Level</td>\n",
       "      <td>40-50%</td>\n",
       "      <td>35-55</td>\n",
       "      <td>0</td>\n",
       "      <td>30</td>\n",
       "      <td>N</td>\n",
       "      <td>Distinction</td>\n",
       "    </tr>\n",
       "    <tr>\n",
       "      <th>32590</th>\n",
       "      <td>GGG</td>\n",
       "      <td>2014J</td>\n",
       "      <td>2648187</td>\n",
       "      <td>F</td>\n",
       "      <td>South Region</td>\n",
       "      <td>A Level or Equivalent</td>\n",
       "      <td>20-30%</td>\n",
       "      <td>0-35</td>\n",
       "      <td>0</td>\n",
       "      <td>30</td>\n",
       "      <td>Y</td>\n",
       "      <td>Pass</td>\n",
       "    </tr>\n",
       "    <tr>\n",
       "      <th>32591</th>\n",
       "      <td>GGG</td>\n",
       "      <td>2014J</td>\n",
       "      <td>2679821</td>\n",
       "      <td>F</td>\n",
       "      <td>South East Region</td>\n",
       "      <td>Lower Than A Level</td>\n",
       "      <td>90-100%</td>\n",
       "      <td>35-55</td>\n",
       "      <td>0</td>\n",
       "      <td>30</td>\n",
       "      <td>N</td>\n",
       "      <td>Withdrawn</td>\n",
       "    </tr>\n",
       "    <tr>\n",
       "      <th>32592</th>\n",
       "      <td>GGG</td>\n",
       "      <td>2014J</td>\n",
       "      <td>2684003</td>\n",
       "      <td>F</td>\n",
       "      <td>Yorkshire Region</td>\n",
       "      <td>HE Qualification</td>\n",
       "      <td>50-60%</td>\n",
       "      <td>35-55</td>\n",
       "      <td>0</td>\n",
       "      <td>30</td>\n",
       "      <td>N</td>\n",
       "      <td>Distinction</td>\n",
       "    </tr>\n",
       "  </tbody>\n",
       "</table>\n",
       "</div>"
      ],
      "text/plain": [
       "      code_module code_presentation  id_student gender               region   \n",
       "32588         GGG             2014J     2640965      F                Wales  \\\n",
       "32589         GGG             2014J     2645731      F  East Anglian Region   \n",
       "32590         GGG             2014J     2648187      F         South Region   \n",
       "32591         GGG             2014J     2679821      F    South East Region   \n",
       "32592         GGG             2014J     2684003      F     Yorkshire Region   \n",
       "\n",
       "           highest_education imd_band age_band  num_of_prev_attempts   \n",
       "32588     Lower Than A Level    10-20     0-35                     0  \\\n",
       "32589     Lower Than A Level   40-50%    35-55                     0   \n",
       "32590  A Level or Equivalent   20-30%     0-35                     0   \n",
       "32591     Lower Than A Level  90-100%    35-55                     0   \n",
       "32592       HE Qualification   50-60%    35-55                     0   \n",
       "\n",
       "       studied_credits disability final_result  \n",
       "32588               30          N         Fail  \n",
       "32589               30          N  Distinction  \n",
       "32590               30          Y         Pass  \n",
       "32591               30          N    Withdrawn  \n",
       "32592               30          N  Distinction  "
      ]
     },
     "execution_count": 58,
     "metadata": {},
     "output_type": "execute_result"
    }
   ],
   "source": [
    "studentInfo_data.tail() # untuk menampilkan 5 data terbawah"
   ]
  },
  {
   "cell_type": "code",
   "execution_count": 59,
   "id": "5c1fd888-d723-4139-b793-efd926e9a839",
   "metadata": {},
   "outputs": [
    {
     "data": {
      "text/plain": [
       "code_module                0\n",
       "code_presentation          0\n",
       "id_student                 0\n",
       "gender                     0\n",
       "region                     0\n",
       "highest_education          0\n",
       "imd_band                1111\n",
       "age_band                   0\n",
       "num_of_prev_attempts       0\n",
       "studied_credits            0\n",
       "disability                 0\n",
       "final_result               0\n",
       "dtype: int64"
      ]
     },
     "execution_count": 59,
     "metadata": {},
     "output_type": "execute_result"
    }
   ],
   "source": [
    "studentInfo_data.isnull().sum() # untuk menghitung jumlah null value"
   ]
  },
  {
   "cell_type": "code",
   "execution_count": 60,
   "id": "c9390604-1ade-44ad-a612-ae960c6678aa",
   "metadata": {},
   "outputs": [
    {
     "data": {
      "text/plain": [
       "0"
      ]
     },
     "execution_count": 60,
     "metadata": {},
     "output_type": "execute_result"
    }
   ],
   "source": [
    "studentInfo_data.duplicated().sum() # untuk menghitung nilai duplikat"
   ]
  },
  {
   "cell_type": "code",
   "execution_count": 61,
   "id": "491bcdad-b543-4685-82eb-2f799c0da09f",
   "metadata": {},
   "outputs": [
    {
     "data": {
      "text/html": [
       "<div>\n",
       "<style scoped>\n",
       "    .dataframe tbody tr th:only-of-type {\n",
       "        vertical-align: middle;\n",
       "    }\n",
       "\n",
       "    .dataframe tbody tr th {\n",
       "        vertical-align: top;\n",
       "    }\n",
       "\n",
       "    .dataframe thead th {\n",
       "        text-align: right;\n",
       "    }\n",
       "</style>\n",
       "<table border=\"1\" class=\"dataframe\">\n",
       "  <thead>\n",
       "    <tr style=\"text-align: right;\">\n",
       "      <th></th>\n",
       "      <th>id_student</th>\n",
       "      <th>num_of_prev_attempts</th>\n",
       "      <th>studied_credits</th>\n",
       "    </tr>\n",
       "  </thead>\n",
       "  <tbody>\n",
       "    <tr>\n",
       "      <th>count</th>\n",
       "      <td>3.259300e+04</td>\n",
       "      <td>32593.000000</td>\n",
       "      <td>32593.000000</td>\n",
       "    </tr>\n",
       "    <tr>\n",
       "      <th>mean</th>\n",
       "      <td>7.066877e+05</td>\n",
       "      <td>0.163225</td>\n",
       "      <td>79.758691</td>\n",
       "    </tr>\n",
       "    <tr>\n",
       "      <th>std</th>\n",
       "      <td>5.491673e+05</td>\n",
       "      <td>0.479758</td>\n",
       "      <td>41.071900</td>\n",
       "    </tr>\n",
       "    <tr>\n",
       "      <th>min</th>\n",
       "      <td>3.733000e+03</td>\n",
       "      <td>0.000000</td>\n",
       "      <td>30.000000</td>\n",
       "    </tr>\n",
       "    <tr>\n",
       "      <th>25%</th>\n",
       "      <td>5.085730e+05</td>\n",
       "      <td>0.000000</td>\n",
       "      <td>60.000000</td>\n",
       "    </tr>\n",
       "    <tr>\n",
       "      <th>50%</th>\n",
       "      <td>5.903100e+05</td>\n",
       "      <td>0.000000</td>\n",
       "      <td>60.000000</td>\n",
       "    </tr>\n",
       "    <tr>\n",
       "      <th>75%</th>\n",
       "      <td>6.444530e+05</td>\n",
       "      <td>0.000000</td>\n",
       "      <td>120.000000</td>\n",
       "    </tr>\n",
       "    <tr>\n",
       "      <th>max</th>\n",
       "      <td>2.716795e+06</td>\n",
       "      <td>6.000000</td>\n",
       "      <td>655.000000</td>\n",
       "    </tr>\n",
       "  </tbody>\n",
       "</table>\n",
       "</div>"
      ],
      "text/plain": [
       "         id_student  num_of_prev_attempts  studied_credits\n",
       "count  3.259300e+04          32593.000000     32593.000000\n",
       "mean   7.066877e+05              0.163225        79.758691\n",
       "std    5.491673e+05              0.479758        41.071900\n",
       "min    3.733000e+03              0.000000        30.000000\n",
       "25%    5.085730e+05              0.000000        60.000000\n",
       "50%    5.903100e+05              0.000000        60.000000\n",
       "75%    6.444530e+05              0.000000       120.000000\n",
       "max    2.716795e+06              6.000000       655.000000"
      ]
     },
     "execution_count": 61,
     "metadata": {},
     "output_type": "execute_result"
    }
   ],
   "source": [
    "studentInfo_data.describe() # ringkasan statistik dari data"
   ]
  },
  {
   "cell_type": "code",
   "execution_count": 62,
   "id": "5efa8bbe-8666-4c56-ac36-ac6a796290b3",
   "metadata": {},
   "outputs": [
    {
     "data": {
      "text/plain": [
       "(32593, 12)"
      ]
     },
     "execution_count": 62,
     "metadata": {},
     "output_type": "execute_result"
    }
   ],
   "source": [
    "studentInfo_data.shape # melihat ukuran data"
   ]
  },
  {
   "cell_type": "code",
   "execution_count": 63,
   "id": "cdc1b402-296b-4509-ae44-54fd3aa9cbbb",
   "metadata": {},
   "outputs": [
    {
     "name": "stdout",
     "output_type": "stream",
     "text": [
      "<class 'pandas.core.frame.DataFrame'>\n",
      "RangeIndex: 32593 entries, 0 to 32592\n",
      "Data columns (total 12 columns):\n",
      " #   Column                Non-Null Count  Dtype \n",
      "---  ------                --------------  ----- \n",
      " 0   code_module           32593 non-null  object\n",
      " 1   code_presentation     32593 non-null  object\n",
      " 2   id_student            32593 non-null  int64 \n",
      " 3   gender                32593 non-null  object\n",
      " 4   region                32593 non-null  object\n",
      " 5   highest_education     32593 non-null  object\n",
      " 6   imd_band              31482 non-null  object\n",
      " 7   age_band              32593 non-null  object\n",
      " 8   num_of_prev_attempts  32593 non-null  int64 \n",
      " 9   studied_credits       32593 non-null  int64 \n",
      " 10  disability            32593 non-null  object\n",
      " 11  final_result          32593 non-null  object\n",
      "dtypes: int64(3), object(9)\n",
      "memory usage: 3.0+ MB\n"
     ]
    }
   ],
   "source": [
    "studentInfo_data.info() # melihat informasi data"
   ]
  },
  {
   "cell_type": "code",
   "execution_count": 64,
   "id": "67c740d7-b22d-48ce-a599-4f88bd01a511",
   "metadata": {},
   "outputs": [
    {
     "data": {
      "text/plain": [
       "code_module             object\n",
       "code_presentation       object\n",
       "id_student               int64\n",
       "gender                  object\n",
       "region                  object\n",
       "highest_education       object\n",
       "imd_band                object\n",
       "age_band                object\n",
       "num_of_prev_attempts     int64\n",
       "studied_credits          int64\n",
       "disability              object\n",
       "final_result            object\n",
       "dtype: object"
      ]
     },
     "execution_count": 64,
     "metadata": {},
     "output_type": "execute_result"
    }
   ],
   "source": [
    "studentInfo_data.dtypes # melihat tipe data atribut"
   ]
  },
  {
   "cell_type": "code",
   "execution_count": 65,
   "id": "6a22e40d-d248-429b-8a49-182e6fa27631",
   "metadata": {},
   "outputs": [
    {
     "data": {
      "text/plain": [
       "code_module                 7\n",
       "code_presentation           4\n",
       "id_student              28785\n",
       "gender                      2\n",
       "region                     13\n",
       "highest_education           5\n",
       "imd_band                   10\n",
       "age_band                    3\n",
       "num_of_prev_attempts        7\n",
       "studied_credits            61\n",
       "disability                  2\n",
       "final_result                4\n",
       "dtype: int64"
      ]
     },
     "execution_count": 65,
     "metadata": {},
     "output_type": "execute_result"
    }
   ],
   "source": [
    "studentInfo_data.nunique() # menghitung nilai unik setiap atribut"
   ]
  },
  {
   "cell_type": "markdown",
   "id": "febbaca3-38e5-49c5-a633-27063525806e",
   "metadata": {},
   "source": [
    "## Pre Processing"
   ]
  },
  {
   "cell_type": "markdown",
   "id": "b769c7d2-0775-49fc-bf12-975c90a78013",
   "metadata": {},
   "source": [
    "mengisi null value dengan nilai yang sering muncul (modus), agar tidak mengurangi banyak data"
   ]
  },
  {
   "cell_type": "code",
   "execution_count": 66,
   "id": "3587684c-cf5b-43b0-9fd6-7ff1e82c0e1c",
   "metadata": {},
   "outputs": [],
   "source": [
    "if studentInfo_data.isnull().any().any(): # cek apakah terdapat nilai null\n",
    "    modus = studentInfo_data.mode().iloc[0] # mencari modus dari tiap kolom\n",
    "    studentInfo_data = studentInfo_data.fillna(modus) # mengisi nilai null dengan modus"
   ]
  },
  {
   "cell_type": "code",
   "execution_count": 67,
   "id": "10464113-ec70-4025-a7f0-878011998f2d",
   "metadata": {},
   "outputs": [
    {
     "data": {
      "text/plain": [
       "code_module             0\n",
       "code_presentation       0\n",
       "id_student              0\n",
       "gender                  0\n",
       "region                  0\n",
       "highest_education       0\n",
       "imd_band                0\n",
       "age_band                0\n",
       "num_of_prev_attempts    0\n",
       "studied_credits         0\n",
       "disability              0\n",
       "final_result            0\n",
       "dtype: int64"
      ]
     },
     "execution_count": 67,
     "metadata": {},
     "output_type": "execute_result"
    }
   ],
   "source": [
    "studentInfo_data.isnull().sum()"
   ]
  },
  {
   "cell_type": "markdown",
   "id": "eb49fe84-5e06-41be-aa0c-bd5889ec910e",
   "metadata": {},
   "source": [
    "# Student Registration"
   ]
  },
  {
   "cell_type": "markdown",
   "id": "94f5063e-33b8-4719-a569-e0674e1f9db5",
   "metadata": {},
   "source": [
    "## EDA"
   ]
  },
  {
   "cell_type": "code",
   "execution_count": 68,
   "id": "e99063d1-0978-4c74-beaa-81725a63cc5c",
   "metadata": {},
   "outputs": [
    {
     "data": {
      "text/html": [
       "<div>\n",
       "<style scoped>\n",
       "    .dataframe tbody tr th:only-of-type {\n",
       "        vertical-align: middle;\n",
       "    }\n",
       "\n",
       "    .dataframe tbody tr th {\n",
       "        vertical-align: top;\n",
       "    }\n",
       "\n",
       "    .dataframe thead th {\n",
       "        text-align: right;\n",
       "    }\n",
       "</style>\n",
       "<table border=\"1\" class=\"dataframe\">\n",
       "  <thead>\n",
       "    <tr style=\"text-align: right;\">\n",
       "      <th></th>\n",
       "      <th>code_module</th>\n",
       "      <th>code_presentation</th>\n",
       "      <th>id_student</th>\n",
       "      <th>date_registration</th>\n",
       "      <th>date_unregistration</th>\n",
       "    </tr>\n",
       "  </thead>\n",
       "  <tbody>\n",
       "    <tr>\n",
       "      <th>0</th>\n",
       "      <td>AAA</td>\n",
       "      <td>2013J</td>\n",
       "      <td>11391</td>\n",
       "      <td>-159.0</td>\n",
       "      <td>NaN</td>\n",
       "    </tr>\n",
       "    <tr>\n",
       "      <th>1</th>\n",
       "      <td>AAA</td>\n",
       "      <td>2013J</td>\n",
       "      <td>28400</td>\n",
       "      <td>-53.0</td>\n",
       "      <td>NaN</td>\n",
       "    </tr>\n",
       "    <tr>\n",
       "      <th>2</th>\n",
       "      <td>AAA</td>\n",
       "      <td>2013J</td>\n",
       "      <td>30268</td>\n",
       "      <td>-92.0</td>\n",
       "      <td>12.0</td>\n",
       "    </tr>\n",
       "    <tr>\n",
       "      <th>3</th>\n",
       "      <td>AAA</td>\n",
       "      <td>2013J</td>\n",
       "      <td>31604</td>\n",
       "      <td>-52.0</td>\n",
       "      <td>NaN</td>\n",
       "    </tr>\n",
       "    <tr>\n",
       "      <th>4</th>\n",
       "      <td>AAA</td>\n",
       "      <td>2013J</td>\n",
       "      <td>32885</td>\n",
       "      <td>-176.0</td>\n",
       "      <td>NaN</td>\n",
       "    </tr>\n",
       "  </tbody>\n",
       "</table>\n",
       "</div>"
      ],
      "text/plain": [
       "  code_module code_presentation  id_student  date_registration   \n",
       "0         AAA             2013J       11391             -159.0  \\\n",
       "1         AAA             2013J       28400              -53.0   \n",
       "2         AAA             2013J       30268              -92.0   \n",
       "3         AAA             2013J       31604              -52.0   \n",
       "4         AAA             2013J       32885             -176.0   \n",
       "\n",
       "   date_unregistration  \n",
       "0                  NaN  \n",
       "1                  NaN  \n",
       "2                 12.0  \n",
       "3                  NaN  \n",
       "4                  NaN  "
      ]
     },
     "execution_count": 68,
     "metadata": {},
     "output_type": "execute_result"
    }
   ],
   "source": [
    "studentRegistration_data.head() # lihat 5 data teratas"
   ]
  },
  {
   "cell_type": "code",
   "execution_count": 69,
   "id": "4f811859-d361-4e9f-8e8c-dd6c38d03151",
   "metadata": {},
   "outputs": [
    {
     "data": {
      "text/html": [
       "<div>\n",
       "<style scoped>\n",
       "    .dataframe tbody tr th:only-of-type {\n",
       "        vertical-align: middle;\n",
       "    }\n",
       "\n",
       "    .dataframe tbody tr th {\n",
       "        vertical-align: top;\n",
       "    }\n",
       "\n",
       "    .dataframe thead th {\n",
       "        text-align: right;\n",
       "    }\n",
       "</style>\n",
       "<table border=\"1\" class=\"dataframe\">\n",
       "  <thead>\n",
       "    <tr style=\"text-align: right;\">\n",
       "      <th></th>\n",
       "      <th>code_module</th>\n",
       "      <th>code_presentation</th>\n",
       "      <th>id_student</th>\n",
       "      <th>date_registration</th>\n",
       "      <th>date_unregistration</th>\n",
       "    </tr>\n",
       "  </thead>\n",
       "  <tbody>\n",
       "    <tr>\n",
       "      <th>32588</th>\n",
       "      <td>GGG</td>\n",
       "      <td>2014J</td>\n",
       "      <td>2640965</td>\n",
       "      <td>-4.0</td>\n",
       "      <td>NaN</td>\n",
       "    </tr>\n",
       "    <tr>\n",
       "      <th>32589</th>\n",
       "      <td>GGG</td>\n",
       "      <td>2014J</td>\n",
       "      <td>2645731</td>\n",
       "      <td>-23.0</td>\n",
       "      <td>NaN</td>\n",
       "    </tr>\n",
       "    <tr>\n",
       "      <th>32590</th>\n",
       "      <td>GGG</td>\n",
       "      <td>2014J</td>\n",
       "      <td>2648187</td>\n",
       "      <td>-129.0</td>\n",
       "      <td>NaN</td>\n",
       "    </tr>\n",
       "    <tr>\n",
       "      <th>32591</th>\n",
       "      <td>GGG</td>\n",
       "      <td>2014J</td>\n",
       "      <td>2679821</td>\n",
       "      <td>-49.0</td>\n",
       "      <td>101.0</td>\n",
       "    </tr>\n",
       "    <tr>\n",
       "      <th>32592</th>\n",
       "      <td>GGG</td>\n",
       "      <td>2014J</td>\n",
       "      <td>2684003</td>\n",
       "      <td>-28.0</td>\n",
       "      <td>NaN</td>\n",
       "    </tr>\n",
       "  </tbody>\n",
       "</table>\n",
       "</div>"
      ],
      "text/plain": [
       "      code_module code_presentation  id_student  date_registration   \n",
       "32588         GGG             2014J     2640965               -4.0  \\\n",
       "32589         GGG             2014J     2645731              -23.0   \n",
       "32590         GGG             2014J     2648187             -129.0   \n",
       "32591         GGG             2014J     2679821              -49.0   \n",
       "32592         GGG             2014J     2684003              -28.0   \n",
       "\n",
       "       date_unregistration  \n",
       "32588                  NaN  \n",
       "32589                  NaN  \n",
       "32590                  NaN  \n",
       "32591                101.0  \n",
       "32592                  NaN  "
      ]
     },
     "execution_count": 69,
     "metadata": {},
     "output_type": "execute_result"
    }
   ],
   "source": [
    "studentRegistration_data.tail() # lihat 5 data terbawah"
   ]
  },
  {
   "cell_type": "code",
   "execution_count": 70,
   "id": "7936156f-cd74-4e9c-b79d-728b5ec64983",
   "metadata": {},
   "outputs": [
    {
     "data": {
      "text/plain": [
       "code_module                0\n",
       "code_presentation          0\n",
       "id_student                 0\n",
       "date_registration         45\n",
       "date_unregistration    22521\n",
       "dtype: int64"
      ]
     },
     "execution_count": 70,
     "metadata": {},
     "output_type": "execute_result"
    }
   ],
   "source": [
    "studentRegistration_data.isnull().sum() # cek null value"
   ]
  },
  {
   "cell_type": "code",
   "execution_count": 71,
   "id": "64602439-3fc3-4ed4-87dd-b28fda0d3c8f",
   "metadata": {},
   "outputs": [
    {
     "data": {
      "text/plain": [
       "0"
      ]
     },
     "execution_count": 71,
     "metadata": {},
     "output_type": "execute_result"
    }
   ],
   "source": [
    "studentRegistration_data.duplicated().sum() # cek nilai duplikat"
   ]
  },
  {
   "cell_type": "code",
   "execution_count": 72,
   "id": "9fce722c-e0d1-4245-b686-2cba73ad14ad",
   "metadata": {},
   "outputs": [
    {
     "data": {
      "text/html": [
       "<div>\n",
       "<style scoped>\n",
       "    .dataframe tbody tr th:only-of-type {\n",
       "        vertical-align: middle;\n",
       "    }\n",
       "\n",
       "    .dataframe tbody tr th {\n",
       "        vertical-align: top;\n",
       "    }\n",
       "\n",
       "    .dataframe thead th {\n",
       "        text-align: right;\n",
       "    }\n",
       "</style>\n",
       "<table border=\"1\" class=\"dataframe\">\n",
       "  <thead>\n",
       "    <tr style=\"text-align: right;\">\n",
       "      <th></th>\n",
       "      <th>id_student</th>\n",
       "      <th>date_registration</th>\n",
       "      <th>date_unregistration</th>\n",
       "    </tr>\n",
       "  </thead>\n",
       "  <tbody>\n",
       "    <tr>\n",
       "      <th>count</th>\n",
       "      <td>3.259300e+04</td>\n",
       "      <td>32548.000000</td>\n",
       "      <td>10072.000000</td>\n",
       "    </tr>\n",
       "    <tr>\n",
       "      <th>mean</th>\n",
       "      <td>7.066877e+05</td>\n",
       "      <td>-69.411300</td>\n",
       "      <td>49.757645</td>\n",
       "    </tr>\n",
       "    <tr>\n",
       "      <th>std</th>\n",
       "      <td>5.491673e+05</td>\n",
       "      <td>49.260522</td>\n",
       "      <td>82.460890</td>\n",
       "    </tr>\n",
       "    <tr>\n",
       "      <th>min</th>\n",
       "      <td>3.733000e+03</td>\n",
       "      <td>-322.000000</td>\n",
       "      <td>-365.000000</td>\n",
       "    </tr>\n",
       "    <tr>\n",
       "      <th>25%</th>\n",
       "      <td>5.085730e+05</td>\n",
       "      <td>-100.000000</td>\n",
       "      <td>-2.000000</td>\n",
       "    </tr>\n",
       "    <tr>\n",
       "      <th>50%</th>\n",
       "      <td>5.903100e+05</td>\n",
       "      <td>-57.000000</td>\n",
       "      <td>27.000000</td>\n",
       "    </tr>\n",
       "    <tr>\n",
       "      <th>75%</th>\n",
       "      <td>6.444530e+05</td>\n",
       "      <td>-29.000000</td>\n",
       "      <td>109.000000</td>\n",
       "    </tr>\n",
       "    <tr>\n",
       "      <th>max</th>\n",
       "      <td>2.716795e+06</td>\n",
       "      <td>167.000000</td>\n",
       "      <td>444.000000</td>\n",
       "    </tr>\n",
       "  </tbody>\n",
       "</table>\n",
       "</div>"
      ],
      "text/plain": [
       "         id_student  date_registration  date_unregistration\n",
       "count  3.259300e+04       32548.000000         10072.000000\n",
       "mean   7.066877e+05         -69.411300            49.757645\n",
       "std    5.491673e+05          49.260522            82.460890\n",
       "min    3.733000e+03        -322.000000          -365.000000\n",
       "25%    5.085730e+05        -100.000000            -2.000000\n",
       "50%    5.903100e+05         -57.000000            27.000000\n",
       "75%    6.444530e+05         -29.000000           109.000000\n",
       "max    2.716795e+06         167.000000           444.000000"
      ]
     },
     "execution_count": 72,
     "metadata": {},
     "output_type": "execute_result"
    }
   ],
   "source": [
    "studentRegistration_data.describe() # ringkasan statistik"
   ]
  },
  {
   "cell_type": "code",
   "execution_count": 73,
   "id": "04a32492-75d8-45af-a4fa-9019470f648b",
   "metadata": {},
   "outputs": [
    {
     "data": {
      "text/plain": [
       "(32593, 5)"
      ]
     },
     "execution_count": 73,
     "metadata": {},
     "output_type": "execute_result"
    }
   ],
   "source": [
    "studentRegistration_data.shape # ukuran dimensi data"
   ]
  },
  {
   "cell_type": "code",
   "execution_count": 74,
   "id": "5f7be2e1-9af3-4d27-9857-9f81b79bbd44",
   "metadata": {},
   "outputs": [
    {
     "name": "stdout",
     "output_type": "stream",
     "text": [
      "<class 'pandas.core.frame.DataFrame'>\n",
      "RangeIndex: 32593 entries, 0 to 32592\n",
      "Data columns (total 5 columns):\n",
      " #   Column               Non-Null Count  Dtype  \n",
      "---  ------               --------------  -----  \n",
      " 0   code_module          32593 non-null  object \n",
      " 1   code_presentation    32593 non-null  object \n",
      " 2   id_student           32593 non-null  int64  \n",
      " 3   date_registration    32548 non-null  float64\n",
      " 4   date_unregistration  10072 non-null  float64\n",
      "dtypes: float64(2), int64(1), object(2)\n",
      "memory usage: 1.2+ MB\n"
     ]
    }
   ],
   "source": [
    "studentRegistration_data.info() # melihat info data"
   ]
  },
  {
   "cell_type": "code",
   "execution_count": 75,
   "id": "24d16b1c-8c87-48a9-b3ed-c4827f3b66b2",
   "metadata": {},
   "outputs": [
    {
     "data": {
      "text/plain": [
       "code_module             object\n",
       "code_presentation       object\n",
       "id_student               int64\n",
       "date_registration      float64\n",
       "date_unregistration    float64\n",
       "dtype: object"
      ]
     },
     "execution_count": 75,
     "metadata": {},
     "output_type": "execute_result"
    }
   ],
   "source": [
    "studentRegistration_data.dtypes # melihat tipe data fitur"
   ]
  },
  {
   "cell_type": "code",
   "execution_count": 76,
   "id": "22115483-bacd-4d46-b5bc-3da31069b399",
   "metadata": {},
   "outputs": [
    {
     "data": {
      "text/plain": [
       "code_module                7\n",
       "code_presentation          4\n",
       "id_student             28785\n",
       "date_registration        332\n",
       "date_unregistration      416\n",
       "dtype: int64"
      ]
     },
     "execution_count": 76,
     "metadata": {},
     "output_type": "execute_result"
    }
   ],
   "source": [
    "studentRegistration_data.nunique() # hitung nilai unik"
   ]
  },
  {
   "cell_type": "markdown",
   "id": "878ddb33-2867-4f8b-b111-0c81d40be192",
   "metadata": {},
   "source": [
    "## Pre Processing"
   ]
  },
  {
   "cell_type": "markdown",
   "id": "84559be1-22cd-4e7d-ae42-3dfd1b909c9e",
   "metadata": {},
   "source": [
    "mengisi null value dengan nilai yang sering muncul (modus), agar tidak mengurangi banyak data"
   ]
  },
  {
   "cell_type": "code",
   "execution_count": 77,
   "id": "8dfc8586-6a04-403b-93c8-eb5ef7be62b4",
   "metadata": {},
   "outputs": [],
   "source": [
    "if studentRegistration_data.isnull().any().any(): # cek apakah terdapat nilai null\n",
    "    modus = studentRegistration_data.mode().iloc[0] # mencari modus dari tiap kolom\n",
    "    studentRegistration_data = studentRegistration_data.fillna(modus) # mengisi nilai null dengan modus"
   ]
  },
  {
   "cell_type": "code",
   "execution_count": 78,
   "id": "f6105ec8-3a57-41b9-8ede-4fb06f5b8c71",
   "metadata": {},
   "outputs": [
    {
     "data": {
      "text/plain": [
       "code_module            0\n",
       "code_presentation      0\n",
       "id_student             0\n",
       "date_registration      0\n",
       "date_unregistration    0\n",
       "dtype: int64"
      ]
     },
     "execution_count": 78,
     "metadata": {},
     "output_type": "execute_result"
    }
   ],
   "source": [
    "studentRegistration_data.isnull().sum()"
   ]
  },
  {
   "cell_type": "markdown",
   "id": "0016238d-6a1b-4ef5-b721-c69ce7b68117",
   "metadata": {},
   "source": [
    "# Student Vle"
   ]
  },
  {
   "cell_type": "markdown",
   "id": "fe02b12f-d915-4c48-a0a7-2d9db4d4bf2e",
   "metadata": {},
   "source": [
    "## Eda"
   ]
  },
  {
   "cell_type": "code",
   "execution_count": 79,
   "id": "1594e078-5095-4e86-927e-35b1551399e8",
   "metadata": {},
   "outputs": [
    {
     "data": {
      "text/html": [
       "<div>\n",
       "<style scoped>\n",
       "    .dataframe tbody tr th:only-of-type {\n",
       "        vertical-align: middle;\n",
       "    }\n",
       "\n",
       "    .dataframe tbody tr th {\n",
       "        vertical-align: top;\n",
       "    }\n",
       "\n",
       "    .dataframe thead th {\n",
       "        text-align: right;\n",
       "    }\n",
       "</style>\n",
       "<table border=\"1\" class=\"dataframe\">\n",
       "  <thead>\n",
       "    <tr style=\"text-align: right;\">\n",
       "      <th></th>\n",
       "      <th>code_module</th>\n",
       "      <th>code_presentation</th>\n",
       "      <th>id_student</th>\n",
       "      <th>id_site</th>\n",
       "      <th>date</th>\n",
       "      <th>sum_click</th>\n",
       "    </tr>\n",
       "  </thead>\n",
       "  <tbody>\n",
       "    <tr>\n",
       "      <th>0</th>\n",
       "      <td>AAA</td>\n",
       "      <td>2013J</td>\n",
       "      <td>28400</td>\n",
       "      <td>546652</td>\n",
       "      <td>-10</td>\n",
       "      <td>4</td>\n",
       "    </tr>\n",
       "    <tr>\n",
       "      <th>1</th>\n",
       "      <td>AAA</td>\n",
       "      <td>2013J</td>\n",
       "      <td>28400</td>\n",
       "      <td>546652</td>\n",
       "      <td>-10</td>\n",
       "      <td>1</td>\n",
       "    </tr>\n",
       "    <tr>\n",
       "      <th>2</th>\n",
       "      <td>AAA</td>\n",
       "      <td>2013J</td>\n",
       "      <td>28400</td>\n",
       "      <td>546652</td>\n",
       "      <td>-10</td>\n",
       "      <td>1</td>\n",
       "    </tr>\n",
       "    <tr>\n",
       "      <th>3</th>\n",
       "      <td>AAA</td>\n",
       "      <td>2013J</td>\n",
       "      <td>28400</td>\n",
       "      <td>546614</td>\n",
       "      <td>-10</td>\n",
       "      <td>11</td>\n",
       "    </tr>\n",
       "    <tr>\n",
       "      <th>4</th>\n",
       "      <td>AAA</td>\n",
       "      <td>2013J</td>\n",
       "      <td>28400</td>\n",
       "      <td>546714</td>\n",
       "      <td>-10</td>\n",
       "      <td>1</td>\n",
       "    </tr>\n",
       "  </tbody>\n",
       "</table>\n",
       "</div>"
      ],
      "text/plain": [
       "  code_module code_presentation  id_student  id_site  date  sum_click\n",
       "0         AAA             2013J       28400   546652   -10          4\n",
       "1         AAA             2013J       28400   546652   -10          1\n",
       "2         AAA             2013J       28400   546652   -10          1\n",
       "3         AAA             2013J       28400   546614   -10         11\n",
       "4         AAA             2013J       28400   546714   -10          1"
      ]
     },
     "execution_count": 79,
     "metadata": {},
     "output_type": "execute_result"
    }
   ],
   "source": [
    "studentVle_data.head() # lihat 5 data teratas"
   ]
  },
  {
   "cell_type": "code",
   "execution_count": 80,
   "id": "6869b593-30a7-45e7-9f23-e68c0642a2ef",
   "metadata": {},
   "outputs": [
    {
     "data": {
      "text/html": [
       "<div>\n",
       "<style scoped>\n",
       "    .dataframe tbody tr th:only-of-type {\n",
       "        vertical-align: middle;\n",
       "    }\n",
       "\n",
       "    .dataframe tbody tr th {\n",
       "        vertical-align: top;\n",
       "    }\n",
       "\n",
       "    .dataframe thead th {\n",
       "        text-align: right;\n",
       "    }\n",
       "</style>\n",
       "<table border=\"1\" class=\"dataframe\">\n",
       "  <thead>\n",
       "    <tr style=\"text-align: right;\">\n",
       "      <th></th>\n",
       "      <th>code_module</th>\n",
       "      <th>code_presentation</th>\n",
       "      <th>id_student</th>\n",
       "      <th>id_site</th>\n",
       "      <th>date</th>\n",
       "      <th>sum_click</th>\n",
       "    </tr>\n",
       "  </thead>\n",
       "  <tbody>\n",
       "    <tr>\n",
       "      <th>10655275</th>\n",
       "      <td>GGG</td>\n",
       "      <td>2014J</td>\n",
       "      <td>675811</td>\n",
       "      <td>896943</td>\n",
       "      <td>269</td>\n",
       "      <td>3</td>\n",
       "    </tr>\n",
       "    <tr>\n",
       "      <th>10655276</th>\n",
       "      <td>GGG</td>\n",
       "      <td>2014J</td>\n",
       "      <td>675578</td>\n",
       "      <td>896943</td>\n",
       "      <td>269</td>\n",
       "      <td>1</td>\n",
       "    </tr>\n",
       "    <tr>\n",
       "      <th>10655277</th>\n",
       "      <td>GGG</td>\n",
       "      <td>2014J</td>\n",
       "      <td>654064</td>\n",
       "      <td>896943</td>\n",
       "      <td>269</td>\n",
       "      <td>3</td>\n",
       "    </tr>\n",
       "    <tr>\n",
       "      <th>10655278</th>\n",
       "      <td>GGG</td>\n",
       "      <td>2014J</td>\n",
       "      <td>654064</td>\n",
       "      <td>896939</td>\n",
       "      <td>269</td>\n",
       "      <td>1</td>\n",
       "    </tr>\n",
       "    <tr>\n",
       "      <th>10655279</th>\n",
       "      <td>GGG</td>\n",
       "      <td>2014J</td>\n",
       "      <td>654064</td>\n",
       "      <td>896939</td>\n",
       "      <td>269</td>\n",
       "      <td>1</td>\n",
       "    </tr>\n",
       "  </tbody>\n",
       "</table>\n",
       "</div>"
      ],
      "text/plain": [
       "         code_module code_presentation  id_student  id_site  date  sum_click\n",
       "10655275         GGG             2014J      675811   896943   269          3\n",
       "10655276         GGG             2014J      675578   896943   269          1\n",
       "10655277         GGG             2014J      654064   896943   269          3\n",
       "10655278         GGG             2014J      654064   896939   269          1\n",
       "10655279         GGG             2014J      654064   896939   269          1"
      ]
     },
     "execution_count": 80,
     "metadata": {},
     "output_type": "execute_result"
    }
   ],
   "source": [
    "studentVle_data.tail() # lihat 5 data terbawah"
   ]
  },
  {
   "cell_type": "code",
   "execution_count": 81,
   "id": "2353343a-e66f-4d6f-a5b7-09b371cb684a",
   "metadata": {},
   "outputs": [
    {
     "data": {
      "text/plain": [
       "code_module          0\n",
       "code_presentation    0\n",
       "id_student           0\n",
       "id_site              0\n",
       "date                 0\n",
       "sum_click            0\n",
       "dtype: int64"
      ]
     },
     "execution_count": 81,
     "metadata": {},
     "output_type": "execute_result"
    }
   ],
   "source": [
    "studentVle_data.isnull().sum() # hitung null value"
   ]
  },
  {
   "cell_type": "code",
   "execution_count": 82,
   "id": "3b5ad6de-1549-4e72-99b1-61d6ab02869c",
   "metadata": {},
   "outputs": [
    {
     "data": {
      "text/plain": [
       "787170"
      ]
     },
     "execution_count": 82,
     "metadata": {},
     "output_type": "execute_result"
    }
   ],
   "source": [
    "studentVle_data.duplicated().sum() # hitung nilai duplikat"
   ]
  },
  {
   "cell_type": "code",
   "execution_count": 83,
   "id": "35ca0901-ac0c-471e-b026-c4ed9540da84",
   "metadata": {},
   "outputs": [
    {
     "data": {
      "text/plain": [
       "(10655280, 6)"
      ]
     },
     "execution_count": 83,
     "metadata": {},
     "output_type": "execute_result"
    }
   ],
   "source": [
    "studentVle_data.shape # lihat ukuran dimensi data"
   ]
  },
  {
   "cell_type": "code",
   "execution_count": 84,
   "id": "cb00e4b0-0e3b-45ee-8e1b-51a15c318298",
   "metadata": {},
   "outputs": [
    {
     "name": "stdout",
     "output_type": "stream",
     "text": [
      "<class 'pandas.core.frame.DataFrame'>\n",
      "RangeIndex: 10655280 entries, 0 to 10655279\n",
      "Data columns (total 6 columns):\n",
      " #   Column             Dtype \n",
      "---  ------             ----- \n",
      " 0   code_module        object\n",
      " 1   code_presentation  object\n",
      " 2   id_student         int64 \n",
      " 3   id_site            int64 \n",
      " 4   date               int64 \n",
      " 5   sum_click          int64 \n",
      "dtypes: int64(4), object(2)\n",
      "memory usage: 487.8+ MB\n"
     ]
    }
   ],
   "source": [
    "studentVle_data.info() # informasi data"
   ]
  },
  {
   "cell_type": "code",
   "execution_count": 85,
   "id": "5cc08d19-26cb-49f3-b624-763dd411b677",
   "metadata": {},
   "outputs": [
    {
     "data": {
      "text/plain": [
       "code_module          object\n",
       "code_presentation    object\n",
       "id_student            int64\n",
       "id_site               int64\n",
       "date                  int64\n",
       "sum_click             int64\n",
       "dtype: object"
      ]
     },
     "execution_count": 85,
     "metadata": {},
     "output_type": "execute_result"
    }
   ],
   "source": [
    "studentVle_data.dtypes # lihat tipe data fitur"
   ]
  },
  {
   "cell_type": "code",
   "execution_count": 86,
   "id": "36b5c2a1-3608-411d-8270-72f1ac424745",
   "metadata": {},
   "outputs": [
    {
     "data": {
      "text/plain": [
       "code_module              7\n",
       "code_presentation        4\n",
       "id_student           26074\n",
       "id_site               6268\n",
       "date                   295\n",
       "sum_click              498\n",
       "dtype: int64"
      ]
     },
     "execution_count": 86,
     "metadata": {},
     "output_type": "execute_result"
    }
   ],
   "source": [
    "studentVle_data.nunique() # hitung nilai unik"
   ]
  },
  {
   "cell_type": "code",
   "execution_count": 87,
   "id": "ee71ad88-ca6d-4034-8fea-e88a378c37d9",
   "metadata": {},
   "outputs": [
    {
     "data": {
      "text/html": [
       "<div>\n",
       "<style scoped>\n",
       "    .dataframe tbody tr th:only-of-type {\n",
       "        vertical-align: middle;\n",
       "    }\n",
       "\n",
       "    .dataframe tbody tr th {\n",
       "        vertical-align: top;\n",
       "    }\n",
       "\n",
       "    .dataframe thead th {\n",
       "        text-align: right;\n",
       "    }\n",
       "</style>\n",
       "<table border=\"1\" class=\"dataframe\">\n",
       "  <thead>\n",
       "    <tr style=\"text-align: right;\">\n",
       "      <th></th>\n",
       "      <th>id_student</th>\n",
       "      <th>id_site</th>\n",
       "      <th>date</th>\n",
       "      <th>sum_click</th>\n",
       "    </tr>\n",
       "  </thead>\n",
       "  <tbody>\n",
       "    <tr>\n",
       "      <th>count</th>\n",
       "      <td>1.065528e+07</td>\n",
       "      <td>1.065528e+07</td>\n",
       "      <td>1.065528e+07</td>\n",
       "      <td>1.065528e+07</td>\n",
       "    </tr>\n",
       "    <tr>\n",
       "      <th>mean</th>\n",
       "      <td>7.333336e+05</td>\n",
       "      <td>7.383234e+05</td>\n",
       "      <td>9.517400e+01</td>\n",
       "      <td>3.716946e+00</td>\n",
       "    </tr>\n",
       "    <tr>\n",
       "      <th>std</th>\n",
       "      <td>5.827060e+05</td>\n",
       "      <td>1.312196e+05</td>\n",
       "      <td>7.607130e+01</td>\n",
       "      <td>8.849047e+00</td>\n",
       "    </tr>\n",
       "    <tr>\n",
       "      <th>min</th>\n",
       "      <td>6.516000e+03</td>\n",
       "      <td>5.267210e+05</td>\n",
       "      <td>-2.500000e+01</td>\n",
       "      <td>1.000000e+00</td>\n",
       "    </tr>\n",
       "    <tr>\n",
       "      <th>25%</th>\n",
       "      <td>5.077430e+05</td>\n",
       "      <td>6.735190e+05</td>\n",
       "      <td>2.500000e+01</td>\n",
       "      <td>1.000000e+00</td>\n",
       "    </tr>\n",
       "    <tr>\n",
       "      <th>50%</th>\n",
       "      <td>5.882360e+05</td>\n",
       "      <td>7.300690e+05</td>\n",
       "      <td>8.600000e+01</td>\n",
       "      <td>2.000000e+00</td>\n",
       "    </tr>\n",
       "    <tr>\n",
       "      <th>75%</th>\n",
       "      <td>6.464840e+05</td>\n",
       "      <td>8.770300e+05</td>\n",
       "      <td>1.560000e+02</td>\n",
       "      <td>3.000000e+00</td>\n",
       "    </tr>\n",
       "    <tr>\n",
       "      <th>max</th>\n",
       "      <td>2.698588e+06</td>\n",
       "      <td>1.049562e+06</td>\n",
       "      <td>2.690000e+02</td>\n",
       "      <td>6.977000e+03</td>\n",
       "    </tr>\n",
       "  </tbody>\n",
       "</table>\n",
       "</div>"
      ],
      "text/plain": [
       "         id_student       id_site          date     sum_click\n",
       "count  1.065528e+07  1.065528e+07  1.065528e+07  1.065528e+07\n",
       "mean   7.333336e+05  7.383234e+05  9.517400e+01  3.716946e+00\n",
       "std    5.827060e+05  1.312196e+05  7.607130e+01  8.849047e+00\n",
       "min    6.516000e+03  5.267210e+05 -2.500000e+01  1.000000e+00\n",
       "25%    5.077430e+05  6.735190e+05  2.500000e+01  1.000000e+00\n",
       "50%    5.882360e+05  7.300690e+05  8.600000e+01  2.000000e+00\n",
       "75%    6.464840e+05  8.770300e+05  1.560000e+02  3.000000e+00\n",
       "max    2.698588e+06  1.049562e+06  2.690000e+02  6.977000e+03"
      ]
     },
     "execution_count": 87,
     "metadata": {},
     "output_type": "execute_result"
    }
   ],
   "source": [
    "studentVle_data.describe() # ringkasan statistik"
   ]
  },
  {
   "cell_type": "markdown",
   "id": "50a92cbd-8a03-4749-b067-46d6d7e5948b",
   "metadata": {},
   "source": [
    "## Pre Processing"
   ]
  },
  {
   "cell_type": "markdown",
   "id": "73c46814-878a-4940-991a-151c4fd83bfc",
   "metadata": {},
   "source": [
    "meskipun terdapat nilai duplikat pada dataset ini, nilai duplikat tersebut tidak saya hapus, karena dihapus atau tidaknya nilai duplikat pada dataset ini tergantung kebutuhan analisis. jika melakukan analisis tingkat interaksi, data duplikat tidak perlu dihapus. jadi keputusan untuk menghilangkan nilai duplikat tergantung analisis yang dilakukan."
   ]
  },
  {
   "cell_type": "markdown",
   "id": "40f415c8-f5b3-45b6-91c8-f2f9f33eb494",
   "metadata": {},
   "source": [
    "# Vle"
   ]
  },
  {
   "cell_type": "markdown",
   "id": "72ada046-d4df-4444-9d13-fb99a6000b47",
   "metadata": {},
   "source": [
    "## EDA"
   ]
  },
  {
   "cell_type": "code",
   "execution_count": 88,
   "id": "9ebfdb57-42b2-4b44-b3ed-bb8c77cb3c82",
   "metadata": {},
   "outputs": [
    {
     "data": {
      "text/html": [
       "<div>\n",
       "<style scoped>\n",
       "    .dataframe tbody tr th:only-of-type {\n",
       "        vertical-align: middle;\n",
       "    }\n",
       "\n",
       "    .dataframe tbody tr th {\n",
       "        vertical-align: top;\n",
       "    }\n",
       "\n",
       "    .dataframe thead th {\n",
       "        text-align: right;\n",
       "    }\n",
       "</style>\n",
       "<table border=\"1\" class=\"dataframe\">\n",
       "  <thead>\n",
       "    <tr style=\"text-align: right;\">\n",
       "      <th></th>\n",
       "      <th>id_site</th>\n",
       "      <th>code_module</th>\n",
       "      <th>code_presentation</th>\n",
       "      <th>activity_type</th>\n",
       "      <th>week_from</th>\n",
       "      <th>week_to</th>\n",
       "    </tr>\n",
       "  </thead>\n",
       "  <tbody>\n",
       "    <tr>\n",
       "      <th>0</th>\n",
       "      <td>546943</td>\n",
       "      <td>AAA</td>\n",
       "      <td>2013J</td>\n",
       "      <td>resource</td>\n",
       "      <td>NaN</td>\n",
       "      <td>NaN</td>\n",
       "    </tr>\n",
       "    <tr>\n",
       "      <th>1</th>\n",
       "      <td>546712</td>\n",
       "      <td>AAA</td>\n",
       "      <td>2013J</td>\n",
       "      <td>oucontent</td>\n",
       "      <td>NaN</td>\n",
       "      <td>NaN</td>\n",
       "    </tr>\n",
       "    <tr>\n",
       "      <th>2</th>\n",
       "      <td>546998</td>\n",
       "      <td>AAA</td>\n",
       "      <td>2013J</td>\n",
       "      <td>resource</td>\n",
       "      <td>NaN</td>\n",
       "      <td>NaN</td>\n",
       "    </tr>\n",
       "    <tr>\n",
       "      <th>3</th>\n",
       "      <td>546888</td>\n",
       "      <td>AAA</td>\n",
       "      <td>2013J</td>\n",
       "      <td>url</td>\n",
       "      <td>NaN</td>\n",
       "      <td>NaN</td>\n",
       "    </tr>\n",
       "    <tr>\n",
       "      <th>4</th>\n",
       "      <td>547035</td>\n",
       "      <td>AAA</td>\n",
       "      <td>2013J</td>\n",
       "      <td>resource</td>\n",
       "      <td>NaN</td>\n",
       "      <td>NaN</td>\n",
       "    </tr>\n",
       "  </tbody>\n",
       "</table>\n",
       "</div>"
      ],
      "text/plain": [
       "   id_site code_module code_presentation activity_type  week_from  week_to\n",
       "0   546943         AAA             2013J      resource        NaN      NaN\n",
       "1   546712         AAA             2013J     oucontent        NaN      NaN\n",
       "2   546998         AAA             2013J      resource        NaN      NaN\n",
       "3   546888         AAA             2013J           url        NaN      NaN\n",
       "4   547035         AAA             2013J      resource        NaN      NaN"
      ]
     },
     "execution_count": 88,
     "metadata": {},
     "output_type": "execute_result"
    }
   ],
   "source": [
    "vle_data.head() # lihat 5 data teratas"
   ]
  },
  {
   "cell_type": "code",
   "execution_count": 89,
   "id": "7a13096a-4e2a-4e13-9ef6-84e8e22fa537",
   "metadata": {},
   "outputs": [
    {
     "data": {
      "text/html": [
       "<div>\n",
       "<style scoped>\n",
       "    .dataframe tbody tr th:only-of-type {\n",
       "        vertical-align: middle;\n",
       "    }\n",
       "\n",
       "    .dataframe tbody tr th {\n",
       "        vertical-align: top;\n",
       "    }\n",
       "\n",
       "    .dataframe thead th {\n",
       "        text-align: right;\n",
       "    }\n",
       "</style>\n",
       "<table border=\"1\" class=\"dataframe\">\n",
       "  <thead>\n",
       "    <tr style=\"text-align: right;\">\n",
       "      <th></th>\n",
       "      <th>id_site</th>\n",
       "      <th>code_module</th>\n",
       "      <th>code_presentation</th>\n",
       "      <th>activity_type</th>\n",
       "      <th>week_from</th>\n",
       "      <th>week_to</th>\n",
       "    </tr>\n",
       "  </thead>\n",
       "  <tbody>\n",
       "    <tr>\n",
       "      <th>6359</th>\n",
       "      <td>897063</td>\n",
       "      <td>GGG</td>\n",
       "      <td>2014J</td>\n",
       "      <td>resource</td>\n",
       "      <td>NaN</td>\n",
       "      <td>NaN</td>\n",
       "    </tr>\n",
       "    <tr>\n",
       "      <th>6360</th>\n",
       "      <td>897109</td>\n",
       "      <td>GGG</td>\n",
       "      <td>2014J</td>\n",
       "      <td>resource</td>\n",
       "      <td>NaN</td>\n",
       "      <td>NaN</td>\n",
       "    </tr>\n",
       "    <tr>\n",
       "      <th>6361</th>\n",
       "      <td>896965</td>\n",
       "      <td>GGG</td>\n",
       "      <td>2014J</td>\n",
       "      <td>oucontent</td>\n",
       "      <td>NaN</td>\n",
       "      <td>NaN</td>\n",
       "    </tr>\n",
       "    <tr>\n",
       "      <th>6362</th>\n",
       "      <td>897060</td>\n",
       "      <td>GGG</td>\n",
       "      <td>2014J</td>\n",
       "      <td>resource</td>\n",
       "      <td>NaN</td>\n",
       "      <td>NaN</td>\n",
       "    </tr>\n",
       "    <tr>\n",
       "      <th>6363</th>\n",
       "      <td>897100</td>\n",
       "      <td>GGG</td>\n",
       "      <td>2014J</td>\n",
       "      <td>resource</td>\n",
       "      <td>NaN</td>\n",
       "      <td>NaN</td>\n",
       "    </tr>\n",
       "  </tbody>\n",
       "</table>\n",
       "</div>"
      ],
      "text/plain": [
       "      id_site code_module code_presentation activity_type  week_from  week_to\n",
       "6359   897063         GGG             2014J      resource        NaN      NaN\n",
       "6360   897109         GGG             2014J      resource        NaN      NaN\n",
       "6361   896965         GGG             2014J     oucontent        NaN      NaN\n",
       "6362   897060         GGG             2014J      resource        NaN      NaN\n",
       "6363   897100         GGG             2014J      resource        NaN      NaN"
      ]
     },
     "execution_count": 89,
     "metadata": {},
     "output_type": "execute_result"
    }
   ],
   "source": [
    "vle_data.tail() # lihat 5 data terbawah"
   ]
  },
  {
   "cell_type": "code",
   "execution_count": 90,
   "id": "365f0ee9-de68-49bb-87d7-77f322a79fa3",
   "metadata": {},
   "outputs": [
    {
     "data": {
      "text/plain": [
       "id_site                 0\n",
       "code_module             0\n",
       "code_presentation       0\n",
       "activity_type           0\n",
       "week_from            5243\n",
       "week_to              5243\n",
       "dtype: int64"
      ]
     },
     "execution_count": 90,
     "metadata": {},
     "output_type": "execute_result"
    }
   ],
   "source": [
    "vle_data.isnull().sum() # hitung total nilai null"
   ]
  },
  {
   "cell_type": "code",
   "execution_count": 91,
   "id": "09885346-0da9-44d7-9171-634f76bfe2fb",
   "metadata": {},
   "outputs": [
    {
     "data": {
      "text/plain": [
       "0"
      ]
     },
     "execution_count": 91,
     "metadata": {},
     "output_type": "execute_result"
    }
   ],
   "source": [
    "vle_data.duplicated().sum() # hitung nilai duplikat"
   ]
  },
  {
   "cell_type": "code",
   "execution_count": 92,
   "id": "65cdd49f-b51a-49d8-9637-752e38fa6dc2",
   "metadata": {},
   "outputs": [
    {
     "data": {
      "text/html": [
       "<div>\n",
       "<style scoped>\n",
       "    .dataframe tbody tr th:only-of-type {\n",
       "        vertical-align: middle;\n",
       "    }\n",
       "\n",
       "    .dataframe tbody tr th {\n",
       "        vertical-align: top;\n",
       "    }\n",
       "\n",
       "    .dataframe thead th {\n",
       "        text-align: right;\n",
       "    }\n",
       "</style>\n",
       "<table border=\"1\" class=\"dataframe\">\n",
       "  <thead>\n",
       "    <tr style=\"text-align: right;\">\n",
       "      <th></th>\n",
       "      <th>id_site</th>\n",
       "      <th>week_from</th>\n",
       "      <th>week_to</th>\n",
       "    </tr>\n",
       "  </thead>\n",
       "  <tbody>\n",
       "    <tr>\n",
       "      <th>count</th>\n",
       "      <td>6.364000e+03</td>\n",
       "      <td>1121.000000</td>\n",
       "      <td>1121.000000</td>\n",
       "    </tr>\n",
       "    <tr>\n",
       "      <th>mean</th>\n",
       "      <td>7.260991e+05</td>\n",
       "      <td>15.204282</td>\n",
       "      <td>15.214987</td>\n",
       "    </tr>\n",
       "    <tr>\n",
       "      <th>std</th>\n",
       "      <td>1.283151e+05</td>\n",
       "      <td>8.792865</td>\n",
       "      <td>8.779806</td>\n",
       "    </tr>\n",
       "    <tr>\n",
       "      <th>min</th>\n",
       "      <td>5.267210e+05</td>\n",
       "      <td>0.000000</td>\n",
       "      <td>0.000000</td>\n",
       "    </tr>\n",
       "    <tr>\n",
       "      <th>25%</th>\n",
       "      <td>6.615928e+05</td>\n",
       "      <td>8.000000</td>\n",
       "      <td>8.000000</td>\n",
       "    </tr>\n",
       "    <tr>\n",
       "      <th>50%</th>\n",
       "      <td>7.300965e+05</td>\n",
       "      <td>15.000000</td>\n",
       "      <td>15.000000</td>\n",
       "    </tr>\n",
       "    <tr>\n",
       "      <th>75%</th>\n",
       "      <td>8.140162e+05</td>\n",
       "      <td>22.000000</td>\n",
       "      <td>22.000000</td>\n",
       "    </tr>\n",
       "    <tr>\n",
       "      <th>max</th>\n",
       "      <td>1.077905e+06</td>\n",
       "      <td>29.000000</td>\n",
       "      <td>29.000000</td>\n",
       "    </tr>\n",
       "  </tbody>\n",
       "</table>\n",
       "</div>"
      ],
      "text/plain": [
       "            id_site    week_from      week_to\n",
       "count  6.364000e+03  1121.000000  1121.000000\n",
       "mean   7.260991e+05    15.204282    15.214987\n",
       "std    1.283151e+05     8.792865     8.779806\n",
       "min    5.267210e+05     0.000000     0.000000\n",
       "25%    6.615928e+05     8.000000     8.000000\n",
       "50%    7.300965e+05    15.000000    15.000000\n",
       "75%    8.140162e+05    22.000000    22.000000\n",
       "max    1.077905e+06    29.000000    29.000000"
      ]
     },
     "execution_count": 92,
     "metadata": {},
     "output_type": "execute_result"
    }
   ],
   "source": [
    "vle_data.describe() # ringkasan statistik"
   ]
  },
  {
   "cell_type": "code",
   "execution_count": 93,
   "id": "956f78bf-524d-416f-a67d-7ba5e3addc1c",
   "metadata": {},
   "outputs": [
    {
     "data": {
      "text/plain": [
       "(6364, 6)"
      ]
     },
     "execution_count": 93,
     "metadata": {},
     "output_type": "execute_result"
    }
   ],
   "source": [
    "vle_data.shape # lihat ukuran dimensi data"
   ]
  },
  {
   "cell_type": "code",
   "execution_count": 94,
   "id": "10f0bf1c-3a4b-4ba4-b668-0afbe1a5341e",
   "metadata": {},
   "outputs": [
    {
     "name": "stdout",
     "output_type": "stream",
     "text": [
      "<class 'pandas.core.frame.DataFrame'>\n",
      "RangeIndex: 6364 entries, 0 to 6363\n",
      "Data columns (total 6 columns):\n",
      " #   Column             Non-Null Count  Dtype  \n",
      "---  ------             --------------  -----  \n",
      " 0   id_site            6364 non-null   int64  \n",
      " 1   code_module        6364 non-null   object \n",
      " 2   code_presentation  6364 non-null   object \n",
      " 3   activity_type      6364 non-null   object \n",
      " 4   week_from          1121 non-null   float64\n",
      " 5   week_to            1121 non-null   float64\n",
      "dtypes: float64(2), int64(1), object(3)\n",
      "memory usage: 298.4+ KB\n"
     ]
    }
   ],
   "source": [
    "vle_data.info() # informasi mengenai dataset"
   ]
  },
  {
   "cell_type": "code",
   "execution_count": 95,
   "id": "c790337c-a924-4f0e-88e3-2032283c8563",
   "metadata": {},
   "outputs": [
    {
     "data": {
      "text/plain": [
       "id_site                int64\n",
       "code_module           object\n",
       "code_presentation     object\n",
       "activity_type         object\n",
       "week_from            float64\n",
       "week_to              float64\n",
       "dtype: object"
      ]
     },
     "execution_count": 95,
     "metadata": {},
     "output_type": "execute_result"
    }
   ],
   "source": [
    "vle_data.dtypes # melihat tipe data fitur"
   ]
  },
  {
   "cell_type": "code",
   "execution_count": 96,
   "id": "62294d55-44fc-4f15-88dd-276427f3a334",
   "metadata": {},
   "outputs": [
    {
     "data": {
      "text/plain": [
       "id_site              6364\n",
       "code_module             7\n",
       "code_presentation       4\n",
       "activity_type          20\n",
       "week_from              30\n",
       "week_to                30\n",
       "dtype: int64"
      ]
     },
     "execution_count": 96,
     "metadata": {},
     "output_type": "execute_result"
    }
   ],
   "source": [
    "vle_data.nunique() # total nilai unik"
   ]
  },
  {
   "cell_type": "markdown",
   "id": "3d4501d4-ce11-4282-8d85-b6ac84351851",
   "metadata": {},
   "source": [
    "## Pre Processing"
   ]
  },
  {
   "cell_type": "markdown",
   "id": "1f17dd02-85f6-4d6e-909d-f0848fc7e595",
   "metadata": {},
   "source": [
    "mengisi null value dengan nilai yang sering muncul (modus), agar tidak mengurangi banyak data"
   ]
  },
  {
   "cell_type": "code",
   "execution_count": 97,
   "id": "67ae96f8-2fa6-4a42-bd50-1914e37f4bf9",
   "metadata": {},
   "outputs": [],
   "source": [
    "if vle_data.isnull().any().any(): # cek apakah terdapat nilai null\n",
    "    modus = vle_data.mode().iloc[0] # mencari modus dari tiap kolom\n",
    "    vle_data = vle_data.fillna(modus) # mengisi nilai null dengan modus"
   ]
  },
  {
   "cell_type": "code",
   "execution_count": 98,
   "id": "8ea52bfe-3c86-4bf8-9ab1-c61de4c52266",
   "metadata": {},
   "outputs": [
    {
     "data": {
      "text/plain": [
       "id_site              0\n",
       "code_module          0\n",
       "code_presentation    0\n",
       "activity_type        0\n",
       "week_from            0\n",
       "week_to              0\n",
       "dtype: int64"
      ]
     },
     "execution_count": 98,
     "metadata": {},
     "output_type": "execute_result"
    }
   ],
   "source": [
    "vle_data.isnull().sum()"
   ]
  }
 ],
 "metadata": {
  "kernelspec": {
   "display_name": "Python 3 (ipykernel)",
   "language": "python",
   "name": "python3"
  },
  "language_info": {
   "codemirror_mode": {
    "name": "ipython",
    "version": 3
   },
   "file_extension": ".py",
   "mimetype": "text/x-python",
   "name": "python",
   "nbconvert_exporter": "python",
   "pygments_lexer": "ipython3",
   "version": "3.9.0"
  }
 },
 "nbformat": 4,
 "nbformat_minor": 5
}
